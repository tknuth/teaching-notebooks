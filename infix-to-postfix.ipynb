{
 "cells": [
  {
   "cell_type": "code",
   "execution_count": 5,
   "id": "10e5f783-46da-4595-8488-a04f72579e4e",
   "metadata": {},
   "outputs": [
    {
     "name": "stdout",
     "output_type": "stream",
     "text": [
      "A B * C D * +\n",
      "A B + C * D E - F G + * -\n"
     ]
    }
   ],
   "source": [
    "# based on an implementation by Bradley N. Miller & David L. Ranum\n",
    "# original source: https://runestone.academy/ns/books/published/pythonds3/index.html\n",
    "# license: https://creativecommons.org/licenses/by-nc-sa/4.0/\n",
    "\n",
    "def infix_to_postfix(infix):\n",
    "    prec = {}\n",
    "    prec[\"*\"] = 3\n",
    "    prec[\"/\"] = 3\n",
    "    prec[\"+\"] = 2\n",
    "    prec[\"-\"] = 2\n",
    "    prec[\"(\"] = 1\n",
    "    op_stack = []\n",
    "    postfix = []\n",
    "    tokens = list(infix.replace(\" \", \"\"))\n",
    "\n",
    "    for token in tokens:\n",
    "        if token.isalnum():\n",
    "            postfix.append(token)\n",
    "        elif token == \"(\":\n",
    "            op_stack.append(token)\n",
    "        elif token == \")\":\n",
    "            top_token = op_stack.pop()\n",
    "            while top_token != \"(\":\n",
    "                postfix.append(top_token)\n",
    "                top_token = op_stack.pop()\n",
    "        else:\n",
    "            while op_stack and (prec[op_stack[-1]] >= prec[token]):\n",
    "                postfix.append(op_stack.pop())\n",
    "            op_stack.append(token)\n",
    "\n",
    "    while op_stack:\n",
    "        postfix.append(op_stack.pop())\n",
    "\n",
    "    return \" \".join(postfix)\n",
    "\n",
    "print(infix_to_postfix(\"A * B + C * D\"))\n",
    "print(infix_to_postfix(\"(A + B) * C - (D - E) * (F + G)\"))"
   ]
  }
 ],
 "metadata": {
  "kernelspec": {
   "display_name": "Python 3 (ipykernel)",
   "language": "python",
   "name": "python3"
  },
  "language_info": {
   "codemirror_mode": {
    "name": "ipython",
    "version": 3
   },
   "file_extension": ".py",
   "mimetype": "text/x-python",
   "name": "python",
   "nbconvert_exporter": "python",
   "pygments_lexer": "ipython3",
   "version": "3.9.10"
  }
 },
 "nbformat": 4,
 "nbformat_minor": 5
}
