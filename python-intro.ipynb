{
 "cells": [
  {
   "cell_type": "code",
   "execution_count": 1,
   "id": "71844a78-6090-47b4-b913-4ca5b0234c1f",
   "metadata": {},
   "outputs": [],
   "source": [
    "# inspired by the official python tutorial\n",
    "# https://docs.python.org/3/tutorial/index.html"
   ]
  },
  {
   "cell_type": "code",
   "execution_count": 2,
   "id": "ab62db61-ee53-45b9-b1a1-34e74e218f95",
   "metadata": {},
   "outputs": [
    {
     "data": {
      "text/plain": [
       "4"
      ]
     },
     "execution_count": 2,
     "metadata": {},
     "output_type": "execute_result"
    }
   ],
   "source": [
    "2 + 2"
   ]
  },
  {
   "cell_type": "code",
   "execution_count": 3,
   "id": "cff39c43-7d60-44ac-bddf-6bd0dd2cc315",
   "metadata": {},
   "outputs": [
    {
     "data": {
      "text/plain": [
       "20"
      ]
     },
     "execution_count": 3,
     "metadata": {},
     "output_type": "execute_result"
    }
   ],
   "source": [
    "50 - 5*6"
   ]
  },
  {
   "cell_type": "code",
   "execution_count": 4,
   "id": "eb1d34ec-1d46-4474-81bf-42dd8e986754",
   "metadata": {},
   "outputs": [
    {
     "data": {
      "text/plain": [
       "5.0"
      ]
     },
     "execution_count": 4,
     "metadata": {},
     "output_type": "execute_result"
    }
   ],
   "source": [
    "(50 - 5*6) / 4"
   ]
  },
  {
   "cell_type": "code",
   "execution_count": 5,
   "id": "b320964e-f8d5-4bff-883e-70b2d3be0bf0",
   "metadata": {},
   "outputs": [
    {
     "data": {
      "text/plain": [
       "1.6"
      ]
     },
     "execution_count": 5,
     "metadata": {},
     "output_type": "execute_result"
    }
   ],
   "source": [
    "8 / 5  # floating point number"
   ]
  },
  {
   "cell_type": "code",
   "execution_count": 6,
   "id": "ac84d13e-e78e-4551-90f7-67099d82149a",
   "metadata": {},
   "outputs": [
    {
     "data": {
      "text/plain": [
       "5"
      ]
     },
     "execution_count": 6,
     "metadata": {},
     "output_type": "execute_result"
    }
   ],
   "source": [
    "17 // 3  # floor division"
   ]
  },
  {
   "cell_type": "code",
   "execution_count": 7,
   "id": "1ccc4571-cd52-42fa-91c7-9b5ecbbba6e4",
   "metadata": {},
   "outputs": [
    {
     "data": {
      "text/plain": [
       "2"
      ]
     },
     "execution_count": 7,
     "metadata": {},
     "output_type": "execute_result"
    }
   ],
   "source": [
    "17 % 3  # remainder"
   ]
  },
  {
   "cell_type": "code",
   "execution_count": 8,
   "id": "f0b23efa-a773-4bd9-ba08-6945e44ae6fa",
   "metadata": {},
   "outputs": [
    {
     "data": {
      "text/plain": [
       "25"
      ]
     },
     "execution_count": 8,
     "metadata": {},
     "output_type": "execute_result"
    }
   ],
   "source": [
    "5 ** 2"
   ]
  },
  {
   "cell_type": "code",
   "execution_count": 9,
   "id": "66dd4b37-cb9f-4629-8289-64467cf36d3d",
   "metadata": {},
   "outputs": [
    {
     "data": {
      "text/plain": [
       "True"
      ]
     },
     "execution_count": 9,
     "metadata": {},
     "output_type": "execute_result"
    }
   ],
   "source": [
    "import math\n",
    "\n",
    "math.inf > 3"
   ]
  },
  {
   "cell_type": "code",
   "execution_count": 10,
   "id": "97158aa6-e0aa-46a6-bcc7-66ce80e896e9",
   "metadata": {},
   "outputs": [
    {
     "data": {
      "text/plain": [
       "nan"
      ]
     },
     "execution_count": 10,
     "metadata": {},
     "output_type": "execute_result"
    }
   ],
   "source": [
    "math.inf * 0"
   ]
  },
  {
   "cell_type": "code",
   "execution_count": 11,
   "id": "cd0eae1f-1dcb-4bb9-900b-94bc5738d12a",
   "metadata": {},
   "outputs": [
    {
     "data": {
      "text/plain": [
       "1.4142135623730951"
      ]
     },
     "execution_count": 11,
     "metadata": {},
     "output_type": "execute_result"
    }
   ],
   "source": [
    "math.sqrt(2)"
   ]
  },
  {
   "cell_type": "code",
   "execution_count": 12,
   "id": "1cf7bf66-6752-449d-b72f-612fe37a61f3",
   "metadata": {},
   "outputs": [
    {
     "data": {
      "text/plain": [
       "\"doesn't\""
      ]
     },
     "execution_count": 12,
     "metadata": {},
     "output_type": "execute_result"
    }
   ],
   "source": [
    "'doesn\\'t'"
   ]
  },
  {
   "cell_type": "code",
   "execution_count": 13,
   "id": "f3aac159-5e6b-4664-8f5a-c4e2524205e2",
   "metadata": {},
   "outputs": [
    {
     "data": {
      "text/plain": [
       "'good morning'"
      ]
     },
     "execution_count": 13,
     "metadata": {},
     "output_type": "execute_result"
    }
   ],
   "source": [
    "prefix = \"good \"\n",
    "prefix + \"morning\""
   ]
  },
  {
   "cell_type": "code",
   "execution_count": 14,
   "id": "4989ab41-e665-4472-baee-50db1e0c56bb",
   "metadata": {},
   "outputs": [
    {
     "data": {
      "text/plain": [
       "'abababc'"
      ]
     },
     "execution_count": 14,
     "metadata": {},
     "output_type": "execute_result"
    }
   ],
   "source": [
    "3 * \"ab\" + \"c\""
   ]
  },
  {
   "cell_type": "code",
   "execution_count": 15,
   "id": "cbc0309d-bda9-4f84-917f-1dd87fdbd9b4",
   "metadata": {},
   "outputs": [
    {
     "name": "stdout",
     "output_type": "stream",
     "text": [
      "0 1 1 2 3 5 8 13 21 34 \n"
     ]
    }
   ],
   "source": [
    "def fib(n):\n",
    "    \"\"\"Print Fibonacci numbers < n.\"\"\"\n",
    "    a, b = 0, 1\n",
    "    while a < n:\n",
    "        print(a, end=' ')\n",
    "        a, b = b, a+b\n",
    "    print()\n",
    "    \n",
    "fib(50)"
   ]
  },
  {
   "cell_type": "code",
   "execution_count": 16,
   "id": "f49af503-051a-4bac-9dbc-ceba7ee283e9",
   "metadata": {},
   "outputs": [
    {
     "name": "stdout",
     "output_type": "stream",
     "text": [
      "0\n",
      "2\n",
      "4\n",
      "6\n",
      "8\n"
     ]
    }
   ],
   "source": [
    "for i in range(10):\n",
    "    if i % 2 == 0:\n",
    "        print(i)"
   ]
  },
  {
   "cell_type": "code",
   "execution_count": 17,
   "id": "e50fdca8-50a9-4dca-898c-f2506174e39a",
   "metadata": {},
   "outputs": [
    {
     "name": "stdout",
     "output_type": "stream",
     "text": [
      "1\n",
      "3\n",
      "5\n",
      "7\n",
      "9\n"
     ]
    }
   ],
   "source": [
    "i = 0\n",
    "while i < 10:\n",
    "    i += 1\n",
    "    if i % 2 == 0:\n",
    "        continue\n",
    "    print(i)"
   ]
  },
  {
   "cell_type": "code",
   "execution_count": 18,
   "id": "316a9a45-ae70-4f01-a3af-b6466e10e6a6",
   "metadata": {},
   "outputs": [],
   "source": [
    "squares = [1, 4, 9, 16, 25]"
   ]
  },
  {
   "cell_type": "code",
   "execution_count": 19,
   "id": "b29e5c28-c2c7-4962-9fb5-90d6bd5f2701",
   "metadata": {},
   "outputs": [
    {
     "data": {
      "text/plain": [
       "1"
      ]
     },
     "execution_count": 19,
     "metadata": {},
     "output_type": "execute_result"
    }
   ],
   "source": [
    "squares[0]"
   ]
  },
  {
   "cell_type": "code",
   "execution_count": 20,
   "id": "552c509d-e17a-40dd-87ba-08b3b7847938",
   "metadata": {},
   "outputs": [
    {
     "data": {
      "text/plain": [
       "25"
      ]
     },
     "execution_count": 20,
     "metadata": {},
     "output_type": "execute_result"
    }
   ],
   "source": [
    "squares[-1]"
   ]
  },
  {
   "cell_type": "code",
   "execution_count": 21,
   "id": "62e29610-1722-4167-a08a-899f814dfbfb",
   "metadata": {},
   "outputs": [
    {
     "data": {
      "text/plain": [
       "[9, 16, 25]"
      ]
     },
     "execution_count": 21,
     "metadata": {},
     "output_type": "execute_result"
    }
   ],
   "source": [
    "squares[2:]"
   ]
  },
  {
   "cell_type": "code",
   "execution_count": 22,
   "id": "f8aab615-226b-416c-8463-60e9e888e807",
   "metadata": {},
   "outputs": [],
   "source": [
    "tel = {\"max\": 1234, \"anna\": 1502}"
   ]
  },
  {
   "cell_type": "code",
   "execution_count": 23,
   "id": "7b5603c0-86fa-463b-bb9a-caef9fdc507b",
   "metadata": {},
   "outputs": [],
   "source": [
    "tel[\"tim\"] = 5012"
   ]
  },
  {
   "cell_type": "code",
   "execution_count": 24,
   "id": "9339ecea-a62e-4666-b2d1-2749a709ed1d",
   "metadata": {},
   "outputs": [
    {
     "data": {
      "text/plain": [
       "['anna', 'max', 'tim']"
      ]
     },
     "execution_count": 24,
     "metadata": {},
     "output_type": "execute_result"
    }
   ],
   "source": [
    "sorted(tel)"
   ]
  },
  {
   "cell_type": "code",
   "execution_count": 25,
   "id": "0115edc5-f62e-483f-8755-296285bef501",
   "metadata": {},
   "outputs": [
    {
     "data": {
      "text/plain": [
       "[[1, 2], [3, 4]]"
      ]
     },
     "execution_count": 25,
     "metadata": {},
     "output_type": "execute_result"
    }
   ],
   "source": [
    "[[1, 2], [3, 4]]"
   ]
  },
  {
   "cell_type": "code",
   "execution_count": 26,
   "id": "1541dae2-5e96-4c65-ae3e-e7b9c65172e2",
   "metadata": {},
   "outputs": [
    {
     "data": {
      "text/plain": [
       "[1, 2, 3, 4]"
      ]
     },
     "execution_count": 26,
     "metadata": {},
     "output_type": "execute_result"
    }
   ],
   "source": [
    "[*[1, 2], *[3, 4]]"
   ]
  },
  {
   "cell_type": "code",
   "execution_count": 27,
   "id": "4396a015-63c1-4b5f-b555-0ebb998178e3",
   "metadata": {},
   "outputs": [
    {
     "data": {
      "text/plain": [
       "{'a': 1, 'b': 2, 'c': 3}"
      ]
     },
     "execution_count": 27,
     "metadata": {},
     "output_type": "execute_result"
    }
   ],
   "source": [
    "x = {\"a\": 1, \"b\": 2}\n",
    "y = {\"c\": 3}\n",
    "\n",
    "x.update(y)\n",
    "x"
   ]
  },
  {
   "cell_type": "code",
   "execution_count": 28,
   "id": "3fba4807-b022-4c2b-b404-be2357f4ff1f",
   "metadata": {},
   "outputs": [
    {
     "name": "stdout",
     "output_type": "stream",
     "text": [
      "{'a': 1, 'b': 2, 'c': 3}\n",
      "{'a': 1, 'b': 2, 'c': 3}\n",
      "3\n"
     ]
    }
   ],
   "source": [
    "x = {\"a\": 1, \"b\": 2}\n",
    "y = {\"c\": 3}\n",
    "\n",
    "print({**x, **y})\n",
    "print(x | y)\n",
    "print(1 | 2)"
   ]
  }
 ],
 "metadata": {
  "kernelspec": {
   "display_name": "Python 3 (ipykernel)",
   "language": "python",
   "name": "python3"
  },
  "language_info": {
   "codemirror_mode": {
    "name": "ipython",
    "version": 3
   },
   "file_extension": ".py",
   "mimetype": "text/x-python",
   "name": "python",
   "nbconvert_exporter": "python",
   "pygments_lexer": "ipython3",
   "version": "3.9.16"
  }
 },
 "nbformat": 4,
 "nbformat_minor": 5
}
