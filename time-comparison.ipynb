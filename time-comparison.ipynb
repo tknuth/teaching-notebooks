{
 "cells": [
  {
   "cell_type": "code",
   "execution_count": 2,
   "id": "3be07a89-d514-4c85-857d-0cd9f1954910",
   "metadata": {},
   "outputs": [],
   "source": [
    "import altair as alt\n",
    "import math\n",
    "import numpy as np\n",
    "import pandas as pd\n",
    "\n",
    "ops_a = 10**-8\n",
    "ops_b = 10**-7\n",
    "\n",
    "def f_a(n):\n",
    "    return np.vectorize(lambda n: ops_a * 2 * n**2)(n)\n",
    "\n",
    "def f_b(n):\n",
    "    return np.vectorize(lambda n: ops_b * 80 * n * math.log2(n))(n)"
   ]
  },
  {
   "cell_type": "code",
   "execution_count": 3,
   "id": "152136a7-6755-402b-a6a3-b064c6d4c2d9",
   "metadata": {},
   "outputs": [
    {
     "data": {
      "text/plain": [
       "array(2000000.)"
      ]
     },
     "execution_count": 3,
     "metadata": {},
     "output_type": "execute_result"
    }
   ],
   "source": [
    "f_a(10**7)"
   ]
  },
  {
   "cell_type": "code",
   "execution_count": 4,
   "id": "c79156f8-d6ea-4afa-9d83-e65681074294",
   "metadata": {},
   "outputs": [
    {
     "data": {
      "text/plain": [
       "array(1860.27973314)"
      ]
     },
     "execution_count": 4,
     "metadata": {},
     "output_type": "execute_result"
    }
   ],
   "source": [
    "f_b(10**7)"
   ]
  },
  {
   "cell_type": "code",
   "execution_count": 9,
   "id": "a4cb8f62-911f-423f-86ad-e4472b22ca82",
   "metadata": {},
   "outputs": [
    {
     "data": {
      "text/html": [
       "\n",
       "<div id=\"altair-viz-bb64b6a73a9044e18fe458f35dd1e42f\"></div>\n",
       "<script type=\"text/javascript\">\n",
       "  var VEGA_DEBUG = (typeof VEGA_DEBUG == \"undefined\") ? {} : VEGA_DEBUG;\n",
       "  (function(spec, embedOpt){\n",
       "    let outputDiv = document.currentScript.previousElementSibling;\n",
       "    if (outputDiv.id !== \"altair-viz-bb64b6a73a9044e18fe458f35dd1e42f\") {\n",
       "      outputDiv = document.getElementById(\"altair-viz-bb64b6a73a9044e18fe458f35dd1e42f\");\n",
       "    }\n",
       "    const paths = {\n",
       "      \"vega\": \"https://cdn.jsdelivr.net/npm//vega@5?noext\",\n",
       "      \"vega-lib\": \"https://cdn.jsdelivr.net/npm//vega-lib?noext\",\n",
       "      \"vega-lite\": \"https://cdn.jsdelivr.net/npm//vega-lite@4.17.0?noext\",\n",
       "      \"vega-embed\": \"https://cdn.jsdelivr.net/npm//vega-embed@6?noext\",\n",
       "    };\n",
       "\n",
       "    function maybeLoadScript(lib, version) {\n",
       "      var key = `${lib.replace(\"-\", \"\")}_version`;\n",
       "      return (VEGA_DEBUG[key] == version) ?\n",
       "        Promise.resolve(paths[lib]) :\n",
       "        new Promise(function(resolve, reject) {\n",
       "          var s = document.createElement('script');\n",
       "          document.getElementsByTagName(\"head\")[0].appendChild(s);\n",
       "          s.async = true;\n",
       "          s.onload = () => {\n",
       "            VEGA_DEBUG[key] = version;\n",
       "            return resolve(paths[lib]);\n",
       "          };\n",
       "          s.onerror = () => reject(`Error loading script: ${paths[lib]}`);\n",
       "          s.src = paths[lib];\n",
       "        });\n",
       "    }\n",
       "\n",
       "    function showError(err) {\n",
       "      outputDiv.innerHTML = `<div class=\"error\" style=\"color:red;\">${err}</div>`;\n",
       "      throw err;\n",
       "    }\n",
       "\n",
       "    function displayChart(vegaEmbed) {\n",
       "      vegaEmbed(outputDiv, spec, embedOpt)\n",
       "        .catch(err => showError(`Javascript Error: ${err.message}<br>This usually means there's a typo in your chart specification. See the javascript console for the full traceback.`));\n",
       "    }\n",
       "\n",
       "    if(typeof define === \"function\" && define.amd) {\n",
       "      requirejs.config({paths});\n",
       "      require([\"vega-embed\"], displayChart, err => showError(`Error loading script: ${err.message}`));\n",
       "    } else {\n",
       "      maybeLoadScript(\"vega\", \"5\")\n",
       "        .then(() => maybeLoadScript(\"vega-lite\", \"4.17.0\"))\n",
       "        .then(() => maybeLoadScript(\"vega-embed\", \"6\"))\n",
       "        .catch(showError)\n",
       "        .then(() => displayChart(vegaEmbed));\n",
       "    }\n",
       "  })({\"config\": {\"view\": {\"continuousWidth\": 400, \"continuousHeight\": 300}}, \"data\": {\"name\": \"data-34cdeb71a39d659e5e219b84636ddc7a\"}, \"mark\": \"line\", \"encoding\": {\"color\": {\"field\": \"Method\", \"type\": \"nominal\"}, \"x\": {\"field\": \"List Size\", \"type\": \"quantitative\"}, \"y\": {\"field\": \"Time\", \"type\": \"quantitative\"}}, \"$schema\": \"https://vega.github.io/schema/vega-lite/v4.17.0.json\", \"datasets\": {\"data-34cdeb71a39d659e5e219b84636ddc7a\": [{\"List Size\": 1.0, \"Time\": 2e-08, \"Method\": \"a\"}, {\"List Size\": 205.0612244897959, \"Time\": 0.0008410021157850894, \"Method\": \"a\"}, {\"List Size\": 409.1224489795918, \"Time\": 0.003347623565181174, \"Method\": \"a\"}, {\"List Size\": 613.1836734693877, \"Time\": 0.0075198843481882535, \"Method\": \"a\"}, {\"List Size\": 817.2448979591836, \"Time\": 0.01335778446480633, \"Method\": \"a\"}, {\"List Size\": 1021.3061224489795, \"Time\": 0.0208613239150354, \"Method\": \"a\"}, {\"List Size\": 1225.3673469387754, \"Time\": 0.030030502698875465, \"Method\": \"a\"}, {\"List Size\": 1429.4285714285713, \"Time\": 0.040865320816326524, \"Method\": \"a\"}, {\"List Size\": 1633.4897959183672, \"Time\": 0.05336577826738858, \"Method\": \"a\"}, {\"List Size\": 1837.5510204081631, \"Time\": 0.06753187505206164, \"Method\": \"a\"}, {\"List Size\": 2041.612244897959, \"Time\": 0.08336361117034567, \"Method\": \"a\"}, {\"List Size\": 2245.673469387755, \"Time\": 0.10086098662224074, \"Method\": \"a\"}, {\"List Size\": 2449.734693877551, \"Time\": 0.12002400140774674, \"Method\": \"a\"}, {\"List Size\": 2653.7959183673465, \"Time\": 0.14085265552686377, \"Method\": \"a\"}, {\"List Size\": 2857.8571428571427, \"Time\": 0.16334694897959182, \"Method\": \"a\"}, {\"List Size\": 3061.918367346939, \"Time\": 0.1875068817659309, \"Method\": \"a\"}, {\"List Size\": 3265.9795918367345, \"Time\": 0.21333245388588087, \"Method\": \"a\"}, {\"List Size\": 3470.04081632653, \"Time\": 0.24082366533944183, \"Method\": \"a\"}, {\"List Size\": 3674.1020408163263, \"Time\": 0.2699805161266139, \"Method\": \"a\"}, {\"List Size\": 3878.1632653061224, \"Time\": 0.3008030062473969, \"Method\": \"a\"}, {\"List Size\": 4082.224489795918, \"Time\": 0.33329113570179086, \"Method\": \"a\"}, {\"List Size\": 4286.285714285714, \"Time\": 0.3674449044897959, \"Method\": \"a\"}, {\"List Size\": 4490.34693877551, \"Time\": 0.403264312611412, \"Method\": \"a\"}, {\"List Size\": 4694.408163265306, \"Time\": 0.4407493600666389, \"Method\": \"a\"}, {\"List Size\": 4898.469387755102, \"Time\": 0.4799000468554768, \"Method\": \"a\"}, {\"List Size\": 5102.530612244897, \"Time\": 0.5207163729779257, \"Method\": \"a\"}, {\"List Size\": 5306.591836734693, \"Time\": 0.5631983384339857, \"Method\": \"a\"}, {\"List Size\": 5510.65306122449, \"Time\": 0.6073459432236568, \"Method\": \"a\"}, {\"List Size\": 5714.714285714285, \"Time\": 0.6531591873469387, \"Method\": \"a\"}, {\"List Size\": 5918.775510204081, \"Time\": 0.7006380708038316, \"Method\": \"a\"}, {\"List Size\": 6122.836734693878, \"Time\": 0.7497825935943357, \"Method\": \"a\"}, {\"List Size\": 6326.897959183673, \"Time\": 0.8005927557184506, \"Method\": \"a\"}, {\"List Size\": 6530.959183673469, \"Time\": 0.8530685571761765, \"Method\": \"a\"}, {\"List Size\": 6735.020408163265, \"Time\": 0.9072099979675133, \"Method\": \"a\"}, {\"List Size\": 6939.08163265306, \"Time\": 0.9630170780924613, \"Method\": \"a\"}, {\"List Size\": 7143.142857142857, \"Time\": 1.0204897975510203, \"Method\": \"a\"}, {\"List Size\": 7347.204081632653, \"Time\": 1.0796281563431902, \"Method\": \"a\"}, {\"List Size\": 7551.265306122448, \"Time\": 1.140432154468971, \"Method\": \"a\"}, {\"List Size\": 7755.326530612245, \"Time\": 1.202901791928363, \"Method\": \"a\"}, {\"List Size\": 7959.3877551020405, \"Time\": 1.267037068721366, \"Method\": \"a\"}, {\"List Size\": 8163.448979591836, \"Time\": 1.3328379848479799, \"Method\": \"a\"}, {\"List Size\": 8367.510204081633, \"Time\": 1.4003045403082048, \"Method\": \"a\"}, {\"List Size\": 8571.571428571428, \"Time\": 1.4694367351020405, \"Method\": \"a\"}, {\"List Size\": 8775.632653061224, \"Time\": 1.5402345692294874, \"Method\": \"a\"}, {\"List Size\": 8979.69387755102, \"Time\": 1.6126980426905457, \"Method\": \"a\"}, {\"List Size\": 9183.755102040815, \"Time\": 1.6868271554852143, \"Method\": \"a\"}, {\"List Size\": 9387.816326530612, \"Time\": 1.7626219076134944, \"Method\": \"a\"}, {\"List Size\": 9591.877551020407, \"Time\": 1.8400822990753847, \"Method\": \"a\"}, {\"List Size\": 9795.938775510203, \"Time\": 1.9192083298708869, \"Method\": \"a\"}, {\"List Size\": 10000.0, \"Time\": 2.0, \"Method\": \"a\"}, {\"List Size\": 1.0, \"Time\": 0.0, \"Method\": \"b\"}, {\"List Size\": 205.0612244897959, \"Time\": 0.01259881547284791, \"Method\": \"b\"}, {\"List Size\": 409.1224489795918, \"Time\": 0.02839764377228873, \"Method\": \"b\"}, {\"List Size\": 613.1836734693877, \"Time\": 0.04542550731449243, \"Method\": \"b\"}, {\"List Size\": 817.2448979591836, \"Time\": 0.06325230111229971, \"Method\": \"b\"}, {\"List Size\": 1021.3061224489795, \"Time\": 0.08167343917844898, \"Method\": \"b\"}, {\"List Size\": 1225.3673469387754, \"Time\": 0.10056833514724152, \"Method\": \"b\"}, {\"List Size\": 1429.4285714285713, \"Time\": 0.11985727484141781, \"Method\": \"b\"}, {\"List Size\": 1633.4897959183672, \"Time\": 0.1394835855657297, \"Method\": \"b\"}, {\"List Size\": 1837.5510204081631, \"Time\": 0.1594048842520909, \"Method\": \"b\"}, {\"List Size\": 2041.612244897959, \"Time\": 0.1795882679842624, \"Method\": \"b\"}, {\"List Size\": 2245.673469387755, \"Time\": 0.2000074483796756, \"Method\": \"b\"}, {\"List Size\": 2449.734693877551, \"Time\": 0.22064093665143275, \"Method\": \"b\"}, {\"List Size\": 2653.7959183673465, \"Time\": 0.24147083773028735, \"Method\": \"b\"}, {\"List Size\": 2857.8571428571427, \"Time\": 0.26248201750164346, \"Method\": \"b\"}, {\"List Size\": 3061.918367346939, \"Time\": 0.283661509096004, \"Method\": \"b\"}, {\"List Size\": 3265.9795918367345, \"Time\": 0.30499807813858465, \"Method\": \"b\"}, {\"List Size\": 3470.04081632653, \"Time\": 0.3264818970635961, \"Method\": \"b\"}, {\"List Size\": 3674.1020408163263, \"Time\": 0.34810429629202666, \"Method\": \"b\"}, {\"List Size\": 3878.1632653061224, \"Time\": 0.3698575708499934, \"Method\": \"b\"}, {\"List Size\": 4082.224489795918, \"Time\": 0.3917348277945968, \"Method\": \"b\"}, {\"List Size\": 4286.285714285714, \"Time\": 0.4137298642183863, \"Method\": \"b\"}, {\"List Size\": 4490.34693877551, \"Time\": 0.43583706853456133, \"Method\": \"b\"}, {\"List Size\": 4694.408163265306, \"Time\": 0.45805133974055257, \"Method\": \"b\"}, {\"List Size\": 4898.469387755102, \"Time\": 0.48036802074410856, \"Method\": \"b\"}, {\"List Size\": 5102.530612244897, \"Time\": 0.5027828428170709, \"Method\": \"b\"}, {\"List Size\": 5306.591836734693, \"Time\": 0.5252918789477519, \"Method\": \"b\"}, {\"List Size\": 5510.65306122449, \"Time\": 0.5478915043781478, \"Method\": \"b\"}, {\"List Size\": 5714.714285714285, \"Time\": 0.5705783629936777, \"Method\": \"b\"}, {\"List Size\": 5918.775510204081, \"Time\": 0.5933493385190683, \"Method\": \"b\"}, {\"List Size\": 6122.836734693878, \"Time\": 0.6162015296907914, \"Method\": \"b\"}, {\"List Size\": 6326.897959183673, \"Time\": 0.6391322287425986, \"Method\": \"b\"}, {\"List Size\": 6530.959183673469, \"Time\": 0.6621389026692588, \"Method\": \"b\"}, {\"List Size\": 6735.020408163265, \"Time\": 0.6852191768340083, \"Method\": \"b\"}, {\"List Size\": 6939.08163265306, \"Time\": 0.7083708205643062, \"Method\": \"b\"}, {\"List Size\": 7143.142857142857, \"Time\": 0.7315917344432616, \"Method\": \"b\"}, {\"List Size\": 7347.204081632653, \"Time\": 0.754879939054318, \"Method\": \"b\"}, {\"List Size\": 7551.265306122448, \"Time\": 0.7782335649772116, \"Method\": \"b\"}, {\"List Size\": 7755.326530612245, \"Time\": 0.8016508438660002, \"Method\": \"b\"}, {\"List Size\": 7959.3877551020405, \"Time\": 0.8251301004667007, \"Method\": \"b\"}, {\"List Size\": 8163.448979591836, \"Time\": 0.8486697454540005, \"Method\": \"b\"}, {\"List Size\": 8367.510204081633, \"Time\": 0.8722682689846041, \"Method\": \"b\"}, {\"List Size\": 8571.571428571428, \"Time\": 0.895924234879773, \"Method\": \"b\"}, {\"List Size\": 8775.632653061224, \"Time\": 0.9196362753621229, \"Method\": \"b\"}, {\"List Size\": 8979.69387755102, \"Time\": 0.9434030862821938, \"Method\": \"b\"}, {\"List Size\": 9183.755102040815, \"Time\": 0.9672234227791183, \"Method\": \"b\"}, {\"List Size\": 9387.816326530612, \"Time\": 0.9910960953271326, \"Method\": \"b\"}, {\"List Size\": 9591.877551020407, \"Time\": 1.0150199661259718, \"Method\": \"b\"}, {\"List Size\": 9795.938775510203, \"Time\": 1.0389939457985584, \"Method\": \"b\"}, {\"List Size\": 10000.0, \"Time\": 1.063016990363956, \"Method\": \"b\"}]}}, {\"mode\": \"vega-lite\"});\n",
       "</script>"
      ],
      "text/plain": [
       "alt.Chart(...)"
      ]
     },
     "execution_count": 9,
     "metadata": {},
     "output_type": "execute_result"
    }
   ],
   "source": [
    "n = 10**4\n",
    "x = np.linspace(1, n)\n",
    "\n",
    "df = pd.concat([\n",
    "    pd.DataFrame({\n",
    "        \"List Size\": x,\n",
    "        \"Time\": f_a(x),\n",
    "        \"Method\": \"a\"\n",
    "    }),\n",
    "    pd.DataFrame({\n",
    "        \"List Size\": x,\n",
    "        \"Time\": f_b(x),\n",
    "        \"Method\": \"b\"\n",
    "    })\n",
    "])\n",
    "\n",
    "alt.Chart(df).mark_line().encode(\n",
    "    x=\"List Size\",\n",
    "    y=\"Time\",\n",
    "    color=\"Method\"\n",
    ")"
   ]
  },
  {
   "cell_type": "code",
   "execution_count": 51,
   "id": "94e77184-912d-4be3-bc71-d6394949b71c",
   "metadata": {},
   "outputs": [
    {
     "name": "stdout",
     "output_type": "stream",
     "text": [
      "4903.924039240393 0.48096941965279616 0.4809659209469299\n"
     ]
    }
   ],
   "source": [
    "x = np.linspace(100, 10**4, 100000)\n",
    "v = x[np.argmax((f_a(x) - f_b(x) > 0))]\n",
    "\n",
    "print(v, f_a(v), f_b(v))"
   ]
  }
 ],
 "metadata": {
  "kernelspec": {
   "display_name": "Python 3 (ipykernel)",
   "language": "python",
   "name": "python3"
  },
  "language_info": {
   "codemirror_mode": {
    "name": "ipython",
    "version": 3
   },
   "file_extension": ".py",
   "mimetype": "text/x-python",
   "name": "python",
   "nbconvert_exporter": "python",
   "pygments_lexer": "ipython3",
   "version": "3.9.13"
  }
 },
 "nbformat": 4,
 "nbformat_minor": 5
}
