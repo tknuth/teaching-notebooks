{
 "cells": [
  {
   "cell_type": "code",
   "execution_count": 25,
   "id": "3be07a89-d514-4c85-857d-0cd9f1954910",
   "metadata": {},
   "outputs": [],
   "source": [
    "import altair as alt\n",
    "import math\n",
    "import numpy as np\n",
    "import pandas as pd\n",
    "\n",
    "ops_a = 10**-10\n",
    "ops_b = 10**-7\n",
    "\n",
    "def f_a(n):\n",
    "    return np.vectorize(lambda n: ops_a * 2 * n**2)(n)\n",
    "\n",
    "def f_b(n):\n",
    "    return np.vectorize(lambda n: ops_b * 50 * n * math.log2(n))(n)\n",
    "\n",
    "def f_c(n):\n",
    "    return np.vectorize(lambda n: ops_b * 100 * n)(n)"
   ]
  },
  {
   "cell_type": "code",
   "execution_count": 21,
   "id": "152136a7-6755-402b-a6a3-b064c6d4c2d9",
   "metadata": {},
   "outputs": [
    {
     "data": {
      "text/plain": [
       "array(20000.)"
      ]
     },
     "execution_count": 21,
     "metadata": {},
     "output_type": "execute_result"
    }
   ],
   "source": [
    "f_a(10**7)"
   ]
  },
  {
   "cell_type": "code",
   "execution_count": 22,
   "id": "c79156f8-d6ea-4afa-9d83-e65681074294",
   "metadata": {},
   "outputs": [
    {
     "data": {
      "text/plain": [
       "array(1162.67483321)"
      ]
     },
     "execution_count": 22,
     "metadata": {},
     "output_type": "execute_result"
    }
   ],
   "source": [
    "f_b(10**7)"
   ]
  },
  {
   "cell_type": "code",
   "execution_count": 36,
   "id": "a4cb8f62-911f-423f-86ad-e4472b22ca82",
   "metadata": {},
   "outputs": [
    {
     "data": {
      "text/html": [
       "\n",
       "<div id=\"altair-viz-58d7855628ba4bd5a4d7aa81101437a5\"></div>\n",
       "<script type=\"text/javascript\">\n",
       "  var VEGA_DEBUG = (typeof VEGA_DEBUG == \"undefined\") ? {} : VEGA_DEBUG;\n",
       "  (function(spec, embedOpt){\n",
       "    let outputDiv = document.currentScript.previousElementSibling;\n",
       "    if (outputDiv.id !== \"altair-viz-58d7855628ba4bd5a4d7aa81101437a5\") {\n",
       "      outputDiv = document.getElementById(\"altair-viz-58d7855628ba4bd5a4d7aa81101437a5\");\n",
       "    }\n",
       "    const paths = {\n",
       "      \"vega\": \"https://cdn.jsdelivr.net/npm//vega@5?noext\",\n",
       "      \"vega-lib\": \"https://cdn.jsdelivr.net/npm//vega-lib?noext\",\n",
       "      \"vega-lite\": \"https://cdn.jsdelivr.net/npm//vega-lite@4.17.0?noext\",\n",
       "      \"vega-embed\": \"https://cdn.jsdelivr.net/npm//vega-embed@6?noext\",\n",
       "    };\n",
       "\n",
       "    function maybeLoadScript(lib, version) {\n",
       "      var key = `${lib.replace(\"-\", \"\")}_version`;\n",
       "      return (VEGA_DEBUG[key] == version) ?\n",
       "        Promise.resolve(paths[lib]) :\n",
       "        new Promise(function(resolve, reject) {\n",
       "          var s = document.createElement('script');\n",
       "          document.getElementsByTagName(\"head\")[0].appendChild(s);\n",
       "          s.async = true;\n",
       "          s.onload = () => {\n",
       "            VEGA_DEBUG[key] = version;\n",
       "            return resolve(paths[lib]);\n",
       "          };\n",
       "          s.onerror = () => reject(`Error loading script: ${paths[lib]}`);\n",
       "          s.src = paths[lib];\n",
       "        });\n",
       "    }\n",
       "\n",
       "    function showError(err) {\n",
       "      outputDiv.innerHTML = `<div class=\"error\" style=\"color:red;\">${err}</div>`;\n",
       "      throw err;\n",
       "    }\n",
       "\n",
       "    function displayChart(vegaEmbed) {\n",
       "      vegaEmbed(outputDiv, spec, embedOpt)\n",
       "        .catch(err => showError(`Javascript Error: ${err.message}<br>This usually means there's a typo in your chart specification. See the javascript console for the full traceback.`));\n",
       "    }\n",
       "\n",
       "    if(typeof define === \"function\" && define.amd) {\n",
       "      requirejs.config({paths});\n",
       "      require([\"vega-embed\"], displayChart, err => showError(`Error loading script: ${err.message}`));\n",
       "    } else {\n",
       "      maybeLoadScript(\"vega\", \"5\")\n",
       "        .then(() => maybeLoadScript(\"vega-lite\", \"4.17.0\"))\n",
       "        .then(() => maybeLoadScript(\"vega-embed\", \"6\"))\n",
       "        .catch(showError)\n",
       "        .then(() => displayChart(vegaEmbed));\n",
       "    }\n",
       "  })({\"config\": {\"view\": {\"continuousWidth\": 400, \"continuousHeight\": 300}}, \"data\": {\"name\": \"data-7498764f37116bb03b1b77fbf1e0d23b\"}, \"mark\": \"line\", \"encoding\": {\"color\": {\"field\": \"Method\", \"type\": \"nominal\"}, \"x\": {\"field\": \"List Size\", \"type\": \"quantitative\"}, \"y\": {\"field\": \"Time\", \"type\": \"quantitative\"}}, \"$schema\": \"https://vega.github.io/schema/vega-lite/v4.17.0.json\", \"datasets\": {\"data-7498764f37116bb03b1b77fbf1e0d23b\": [{\"List Size\": 1.0, \"Time\": 2e-10, \"Method\": \"a\"}, {\"List Size\": 20409.14285714286, \"Time\": 0.08330662243265308, \"Method\": \"a\"}, {\"List Size\": 40817.28571428572, \"Time\": 0.3332101626163266, \"Method\": \"a\"}, {\"List Size\": 61225.42857142858, \"Time\": 0.7497106207510207, \"Method\": \"a\"}, {\"List Size\": 81633.57142857143, \"Time\": 1.332807996836735, \"Method\": \"a\"}, {\"List Size\": 102041.71428571429, \"Time\": 2.0825022908734696, \"Method\": \"a\"}, {\"List Size\": 122449.85714285716, \"Time\": 2.998793502861225, \"Method\": \"a\"}, {\"List Size\": 142858.0, \"Time\": 4.0816816328000005, \"Method\": \"a\"}, {\"List Size\": 163266.14285714287, \"Time\": 5.331166680689797, \"Method\": \"a\"}, {\"List Size\": 183674.28571428574, \"Time\": 6.747248646530614, \"Method\": \"a\"}, {\"List Size\": 204082.42857142858, \"Time\": 8.32992753032245, \"Method\": \"a\"}, {\"List Size\": 224490.57142857145, \"Time\": 10.079203332065308, \"Method\": \"a\"}, {\"List Size\": 244898.71428571432, \"Time\": 11.995076051759188, \"Method\": \"a\"}, {\"List Size\": 265306.85714285716, \"Time\": 14.077545689404083, \"Method\": \"a\"}, {\"List Size\": 285715.0, \"Time\": 16.326612245, \"Method\": \"a\"}, {\"List Size\": 306123.1428571429, \"Time\": 18.742275718546946, \"Method\": \"a\"}, {\"List Size\": 326531.28571428574, \"Time\": 21.3245361100449, \"Method\": \"a\"}, {\"List Size\": 346939.4285714286, \"Time\": 24.07339341949388, \"Method\": \"a\"}, {\"List Size\": 367347.5714285715, \"Time\": 26.988847646893884, \"Method\": \"a\"}, {\"List Size\": 387755.7142857143, \"Time\": 30.070898792244904, \"Method\": \"a\"}, {\"List Size\": 408163.85714285716, \"Time\": 33.319546855546946, \"Method\": \"a\"}, {\"List Size\": 428572.00000000006, \"Time\": 36.734791836800014, \"Method\": \"a\"}, {\"List Size\": 448980.1428571429, \"Time\": 40.31663373600409, \"Method\": \"a\"}, {\"List Size\": 469388.28571428574, \"Time\": 44.06507255315919, \"Method\": \"a\"}, {\"List Size\": 489796.42857142864, \"Time\": 47.98010828826532, \"Method\": \"a\"}, {\"List Size\": 510204.5714285715, \"Time\": 52.06174094132246, \"Method\": \"a\"}, {\"List Size\": 530612.7142857143, \"Time\": 56.309970512330615, \"Method\": \"a\"}, {\"List Size\": 551020.8571428572, \"Time\": 60.724797001289794, \"Method\": \"a\"}, {\"List Size\": 571429.0, \"Time\": 65.3062204082, \"Method\": \"a\"}, {\"List Size\": 591837.142857143, \"Time\": 70.05424073306125, \"Method\": \"a\"}, {\"List Size\": 612245.2857142858, \"Time\": 74.96885797587349, \"Method\": \"a\"}, {\"List Size\": 632653.4285714286, \"Time\": 80.05007213663676, \"Method\": \"a\"}, {\"List Size\": 653061.5714285715, \"Time\": 85.29788321535104, \"Method\": \"a\"}, {\"List Size\": 673469.7142857143, \"Time\": 90.71229121201634, \"Method\": \"a\"}, {\"List Size\": 693877.8571428572, \"Time\": 96.29329612663265, \"Method\": \"a\"}, {\"List Size\": 714286.0, \"Time\": 102.04089795920001, \"Method\": \"a\"}, {\"List Size\": 734694.142857143, \"Time\": 107.9550967097184, \"Method\": \"a\"}, {\"List Size\": 755102.2857142858, \"Time\": 114.03589237818777, \"Method\": \"a\"}, {\"List Size\": 775510.4285714286, \"Time\": 120.28328496460819, \"Method\": \"a\"}, {\"List Size\": 795918.5714285715, \"Time\": 126.69727446897961, \"Method\": \"a\"}, {\"List Size\": 816326.7142857143, \"Time\": 133.27786089130205, \"Method\": \"a\"}, {\"List Size\": 836734.8571428572, \"Time\": 140.02504423157552, \"Method\": \"a\"}, {\"List Size\": 857143.0000000001, \"Time\": 146.93882448980006, \"Method\": \"a\"}, {\"List Size\": 877551.142857143, \"Time\": 154.01920166597554, \"Method\": \"a\"}, {\"List Size\": 897959.2857142858, \"Time\": 161.26617576010207, \"Method\": \"a\"}, {\"List Size\": 918367.4285714286, \"Time\": 168.6797467721796, \"Method\": \"a\"}, {\"List Size\": 938775.5714285715, \"Time\": 176.2599147022082, \"Method\": \"a\"}, {\"List Size\": 959183.7142857143, \"Time\": 184.00667955018778, \"Method\": \"a\"}, {\"List Size\": 979591.8571428573, \"Time\": 191.92004131611841, \"Method\": \"a\"}, {\"List Size\": 1000000.0, \"Time\": 200.0, \"Method\": \"a\"}, {\"List Size\": 1.0, \"Time\": 0.0, \"Method\": \"b\"}, {\"List Size\": 20409.14285714286, \"Time\": 1.4609811413726221, \"Method\": \"b\"}, {\"List Size\": 40817.28571428572, \"Time\": 3.1259699132899654, \"Method\": \"b\"}, {\"List Size\": 61225.42857142858, \"Time\": 4.86798587000484, \"Method\": \"b\"}, {\"List Size\": 81633.57142857143, \"Time\": 6.660023885828624, \"Method\": \"b\"}, {\"List Size\": 102041.71428571429, \"Time\": 8.489258131220696, \"Method\": \"b\"}, {\"List Size\": 122449.85714285716, \"Time\": 10.34813430306148, \"Method\": \"b\"}, {\"List Size\": 142858.0, \"Time\": 12.231660749103334, \"Method\": \"b\"}, {\"List Size\": 163266.14285714287, \"Time\": 14.136289688115072, \"Method\": \"b\"}, {\"List Size\": 183674.28571428574, \"Time\": 16.05936844072862, \"Method\": \"b\"}, {\"List Size\": 204082.42857142858, \"Time\": 17.998837997843427, \"Method\": \"b\"}, {\"List Size\": 224490.57142857145, \"Time\": 19.95305347998451, \"Method\": \"b\"}, {\"List Size\": 244898.71428571432, \"Time\": 21.920670454933227, \"Method\": \"b\"}, {\"List Size\": 265306.85714285716, \"Time\": 23.900569420753886, \"Method\": \"b\"}, {\"List Size\": 285715.0, \"Time\": 25.89180366363257, \"Method\": \"b\"}, {\"List Size\": 306123.1428571429, \"Time\": 27.893562088921037, \"Method\": \"b\"}, {\"List Size\": 326531.28571428574, \"Time\": 29.90514200700682, \"Method\": \"b\"}, {\"List Size\": 346939.4285714286, \"Time\": 31.925928748406438, \"Method\": \"b\"}, {\"List Size\": 367347.5714285715, \"Time\": 33.95538009118402, \"Method\": \"b\"}, {\"List Size\": 387755.7142857143, \"Time\": 35.99301415906847, \"Method\": \"b\"}, {\"List Size\": 408163.85714285716, \"Time\": 38.03839987397253, \"Method\": \"b\"}, {\"List Size\": 428572.00000000006, \"Time\": 40.09114932246556, \"Method\": \"b\"}, {\"List Size\": 448980.1428571429, \"Time\": 42.150911579310936, \"Method\": \"b\"}, {\"List Size\": 469388.28571428574, \"Time\": 44.21736765613749, \"Method\": \"b\"}, {\"List Size\": 489796.42857142864, \"Time\": 46.290226330127396, \"Method\": \"b\"}, {\"List Size\": 510204.5714285715, \"Time\": 48.36922066902529, \"Method\": \"b\"}, {\"List Size\": 530612.7142857143, \"Time\": 50.454105112955745, \"Method\": \"b\"}, {\"List Size\": 551020.8571428572, \"Time\": 52.54465300579352, \"Method\": \"b\"}, {\"List Size\": 571429.0, \"Time\": 54.64065449270997, \"Method\": \"b\"}, {\"List Size\": 591837.142857143, \"Time\": 56.74191471841477, \"Method\": \"b\"}, {\"List Size\": 612245.2857142858, \"Time\": 58.848252274181235, \"Method\": \"b\"}, {\"List Size\": 632653.4285714286, \"Time\": 60.95949785214081, \"Method\": \"b\"}, {\"List Size\": 653061.5714285715, \"Time\": 63.07549307337831, \"Method\": \"b\"}, {\"List Size\": 673469.7142857143, \"Time\": 65.1960894626425, \"Method\": \"b\"}, {\"List Size\": 693877.8571428572, \"Time\": 67.32114754743574, \"Method\": \"b\"}, {\"List Size\": 714286.0, \"Time\": 69.45053606317414, \"Method\": \"b\"}, {\"List Size\": 734694.142857143, \"Time\": 71.5841312492524, \"Method\": \"b\"}, {\"List Size\": 755102.2857142858, \"Time\": 73.72181622337666, \"Method\": \"b\"}, {\"List Size\": 775510.4285714286, \"Time\": 75.86348042358095, \"Method\": \"b\"}, {\"List Size\": 795918.5714285715, \"Time\": 78.00901910901419, \"Method\": \"b\"}, {\"List Size\": 816326.7142857143, \"Time\": 80.1583329119583, \"Method\": \"b\"}, {\"List Size\": 836734.8571428572, \"Time\": 82.31132743466901, \"Method\": \"b\"}, {\"List Size\": 857143.0000000001, \"Time\": 84.46791288556977, \"Method\": \"b\"}, {\"List Size\": 877551.142857143, \"Time\": 86.62800375011096, \"Method\": \"b\"}, {\"List Size\": 897959.2857142858, \"Time\": 88.79151849226152, \"Method\": \"b\"}, {\"List Size\": 918367.4285714286, \"Time\": 90.95837928314964, \"Method\": \"b\"}, {\"List Size\": 938775.5714285715, \"Time\": 93.12851175383493, \"Method\": \"b\"}, {\"List Size\": 959183.7142857143, \"Time\": 95.30184476958732, \"Method\": \"b\"}, {\"List Size\": 979591.8571428573, \"Time\": 97.47831022338391, \"Method\": \"b\"}, {\"List Size\": 1000000.0, \"Time\": 99.65784284662087, \"Method\": \"b\"}]}}, {\"mode\": \"vega-lite\"});\n",
       "</script>"
      ],
      "text/plain": [
       "alt.Chart(...)"
      ]
     },
     "execution_count": 36,
     "metadata": {},
     "output_type": "execute_result"
    }
   ],
   "source": [
    "n = 10**6\n",
    "x = np.linspace(1, n)\n",
    "\n",
    "df = pd.concat([\n",
    "    pd.DataFrame({\n",
    "        \"List Size\": x,\n",
    "        \"Time\": f_a(x),\n",
    "        \"Method\": \"a\"\n",
    "    }),\n",
    "    pd.DataFrame({\n",
    "        \"List Size\": x,\n",
    "        \"Time\": f_b(x),\n",
    "        \"Method\": \"b\"\n",
    "    })\n",
    "])\n",
    "\n",
    "alt.Chart(df).mark_line().encode(\n",
    "    x=\"List Size\",\n",
    "    y=\"Time\",\n",
    "    color=\"Method\"\n",
    ")"
   ]
  },
  {
   "cell_type": "code",
   "execution_count": 8,
   "id": "94e77184-912d-4be3-bc71-d6394949b71c",
   "metadata": {},
   "outputs": [
    {
     "name": "stdout",
     "output_type": "stream",
     "text": [
      "471200.0 44.405888000000004\n"
     ]
    }
   ],
   "source": [
    "x = np.linspace(100, 10**7, 10**5)\n",
    "v = x[np.argmax((f_a(x) - f_b(x) > 0))]\n",
    "\n",
    "print(v, f_a(v))"
   ]
  },
  {
   "cell_type": "code",
   "execution_count": 76,
   "id": "1c304472-c1f6-4a53-b73f-f755a05f1bdc",
   "metadata": {},
   "outputs": [
    {
     "data": {
      "text/plain": [
       "array(44.405888)"
      ]
     },
     "execution_count": 76,
     "metadata": {},
     "output_type": "execute_result"
    }
   ],
   "source": [
    "f_a(471200)"
   ]
  },
  {
   "cell_type": "code",
   "execution_count": 9,
   "id": "3c6feafc-b7da-4f0b-8db7-d573be948559",
   "metadata": {},
   "outputs": [
    {
     "data": {
      "text/plain": [
       "array(44.40112891)"
      ]
     },
     "execution_count": 9,
     "metadata": {},
     "output_type": "execute_result"
    }
   ],
   "source": [
    "f_b(471200)"
   ]
  },
  {
   "cell_type": "code",
   "execution_count": 10,
   "id": "4cd9b4bc-f166-4d29-b6d8-7b350382f46a",
   "metadata": {},
   "outputs": [
    {
     "name": "stdout",
     "output_type": "stream",
     "text": [
      "50000.0 0.5\n"
     ]
    }
   ],
   "source": [
    "x = np.linspace(100, 10**7, 10**5)\n",
    "v = x[np.argmax((f_a(x) - f_c(x) > 0))]\n",
    "\n",
    "print(v, f_a(v))"
   ]
  }
 ],
 "metadata": {
  "kernelspec": {
   "display_name": "Python 3 (ipykernel)",
   "language": "python",
   "name": "python3"
  },
  "language_info": {
   "codemirror_mode": {
    "name": "ipython",
    "version": 3
   },
   "file_extension": ".py",
   "mimetype": "text/x-python",
   "name": "python",
   "nbconvert_exporter": "python",
   "pygments_lexer": "ipython3",
   "version": "3.9.10"
  }
 },
 "nbformat": 4,
 "nbformat_minor": 5
}
