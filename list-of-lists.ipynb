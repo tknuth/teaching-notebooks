{
 "cells": [
  {
   "cell_type": "code",
   "execution_count": 1,
   "id": "19b01f7b-1a00-498e-a1ec-f33e6d7bf245",
   "metadata": {},
   "outputs": [
    {
     "data": {
      "text/plain": [
       "8"
      ]
     },
     "execution_count": 1,
     "metadata": {},
     "output_type": "execute_result"
    }
   ],
   "source": [
    "def number_of_lists(n, i=0):\n",
    "    if n == 1:\n",
    "        return 1\n",
    "    return sum([\n",
    "        1, # all n items form 1 list\n",
    "        2 * number_of_lists(n-1, i), # new item can be added on both sides\n",
    "        -1 # don't list of lists of length 1 twice\n",
    "    ])\n",
    "\n",
    "number_of_lists(4) # 2^(n-1)"
   ]
  }
 ],
 "metadata": {
  "kernelspec": {
   "display_name": "Python 3 (ipykernel)",
   "language": "python",
   "name": "python3"
  },
  "language_info": {
   "codemirror_mode": {
    "name": "ipython",
    "version": 3
   },
   "file_extension": ".py",
   "mimetype": "text/x-python",
   "name": "python",
   "nbconvert_exporter": "python",
   "pygments_lexer": "ipython3",
   "version": "3.9.13"
  }
 },
 "nbformat": 4,
 "nbformat_minor": 5
}
