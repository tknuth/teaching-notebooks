{
 "cells": [
  {
   "cell_type": "code",
   "execution_count": 1,
   "id": "435e4b2a-58ce-4723-88a6-97536a326bcd",
   "metadata": {},
   "outputs": [],
   "source": [
    "from timeit import timeit\n",
    "\n",
    "# what are advantages/disadvantages of the following functions?\n",
    "# are there inputs for which the functions do not yield the correct result?\n",
    "\n",
    "def brute_force(u, v):\n",
    "    if u < v:\n",
    "        divisor = u\n",
    "    else:\n",
    "        divisor = v\n",
    "    while True:\n",
    "        a = u % divisor\n",
    "        b = v % divisor\n",
    "        if a == 0 and b == 0:\n",
    "            return divisor        \n",
    "        divisor -= 1\n",
    "\n",
    "def gcd_iterative(u, v):\n",
    "    while u > 0:\n",
    "        if u < v:\n",
    "            u, v = v, u\n",
    "        u = u - v\n",
    "    return v\n",
    "\n",
    "def gcd_recursive(u, v):\n",
    "    if (v == 0):\n",
    "        return u\n",
    "    return gcd_recursive(v, u % v)\n",
    "\n",
    "# timeit(lambda: brute_force(96, 102))"
   ]
  }
 ],
 "metadata": {
  "kernelspec": {
   "display_name": "Python 3 (ipykernel)",
   "language": "python",
   "name": "python3"
  },
  "language_info": {
   "codemirror_mode": {
    "name": "ipython",
    "version": 3
   },
   "file_extension": ".py",
   "mimetype": "text/x-python",
   "name": "python",
   "nbconvert_exporter": "python",
   "pygments_lexer": "ipython3",
   "version": "3.9.10"
  }
 },
 "nbformat": 4,
 "nbformat_minor": 5
}
