{
 "cells": [
  {
   "cell_type": "code",
   "execution_count": 170,
   "id": "1882e912-d743-44be-96f4-76263613e918",
   "metadata": {},
   "outputs": [],
   "source": [
    "table_size = 11\n",
    "keys = [5, 17, 12, 21, 9, 25, 12, 4]"
   ]
  },
  {
   "cell_type": "code",
   "execution_count": 171,
   "id": "010b11d4-c71c-4415-bf96-48ea097d1228",
   "metadata": {},
   "outputs": [
    {
     "data": {
      "text/plain": [
       "[[], [4], [], [12, 12], [5], [], [9], [], [17], [21, 25], []]"
      ]
     },
     "execution_count": 171,
     "metadata": {},
     "output_type": "execute_result"
    }
   ],
   "source": [
    "def chaining(hash_function, table_size, keys):\n",
    "    table = [[] for i in range(table_size)]\n",
    "    for k in keys:\n",
    "        h = hash_function(k, table_size)\n",
    "        table[h].append(k)\n",
    "    return table\n",
    "\n",
    "def hash_function(k, t):\n",
    "    return int(3.17 * (k % t)) % t\n",
    "\n",
    "chaining(hash_function, table_size, keys)"
   ]
  },
  {
   "cell_type": "code",
   "execution_count": 172,
   "id": "bdf17114-ffe8-4ea1-b1ea-9c1f8de6d00d",
   "metadata": {},
   "outputs": [],
   "source": [
    "def open_addressing(hash_function, table_size, keys):\n",
    "    table = [None] * table_size\n",
    "    for k in keys:\n",
    "        i = 0\n",
    "        while True:\n",
    "            if i > 10000:\n",
    "                raise Exception(\"table full\")\n",
    "            h = hash_function(k, i, table_size)\n",
    "            if table[h] is None:\n",
    "                table[h] = k\n",
    "                break\n",
    "            i += 1\n",
    "    return table"
   ]
  },
  {
   "cell_type": "code",
   "execution_count": 173,
   "id": "f99a6d9b-789c-486b-ad28-cb74ab21e4da",
   "metadata": {},
   "outputs": [
    {
     "data": {
      "text/plain": [
       "[None, 12, None, 25, 4, 5, 17, 12, None, 9, 21]"
      ]
     },
     "execution_count": 173,
     "metadata": {},
     "output_type": "execute_result"
    }
   ],
   "source": [
    "def hash_function(k, i, t):\n",
    "    return ((k % t) + i + i**2) % t\n",
    "\n",
    "open_addressing(hash_function, table_size, keys)"
   ]
  },
  {
   "cell_type": "code",
   "execution_count": 174,
   "id": "a7fb4553-ed08-4de9-8e5b-be404344ef37",
   "metadata": {},
   "outputs": [
    {
     "data": {
      "text/plain": [
       "[None, 12, 12, 25, 4, 5, 17, None, None, 9, 21]"
      ]
     },
     "execution_count": 174,
     "metadata": {},
     "output_type": "execute_result"
    }
   ],
   "source": [
    "def hash_function(k, i, t):\n",
    "    return ((k % t) + i) % t\n",
    "\n",
    "open_addressing(hash_function, table_size, keys)"
   ]
  },
  {
   "cell_type": "code",
   "execution_count": 175,
   "id": "3e37cd36-9388-470f-81a1-9854bce7fbc3",
   "metadata": {},
   "outputs": [
    {
     "data": {
      "text/plain": [
       "[None, 12, None, 25, 4, 5, 17, 12, None, 9, 21]"
      ]
     },
     "execution_count": 175,
     "metadata": {},
     "output_type": "execute_result"
    }
   ],
   "source": [
    "def hash_function(k, i, t):\n",
    "    # prime number must be less than table size\n",
    "    p = 7\n",
    "    return (k % t + i * (p - (k % p))) % t\n",
    "\n",
    "open_addressing(hash_function, table_size, keys)"
   ]
  }
 ],
 "metadata": {
  "kernelspec": {
   "display_name": "Python 3 (ipykernel)",
   "language": "python",
   "name": "python3"
  },
  "language_info": {
   "codemirror_mode": {
    "name": "ipython",
    "version": 3
   },
   "file_extension": ".py",
   "mimetype": "text/x-python",
   "name": "python",
   "nbconvert_exporter": "python",
   "pygments_lexer": "ipython3",
   "version": "3.9.13"
  }
 },
 "nbformat": 4,
 "nbformat_minor": 5
}
