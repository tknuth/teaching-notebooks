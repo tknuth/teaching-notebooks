{
 "cells": [
  {
   "cell_type": "code",
   "execution_count": 8,
   "id": "514f5e5d-8e68-4cf4-b649-1750c41ee258",
   "metadata": {},
   "outputs": [],
   "source": [
    "# data set: https://archive.ics.uci.edu/ml/datasets/SMS+Spam+Collection\n",
    "\n",
    "from sklearn import metrics\n",
    "from sklearn.model_selection import train_test_split\n",
    "from sklearn.naive_bayes import MultinomialNB, GaussianNB\n",
    "from sklearn.feature_extraction.text import CountVectorizer\n",
    "import numpy as np\n",
    "import pandas as pd\n",
    "\n",
    "df = pd.read_csv(\"data/spam-collection\", delimiter=\"\\t\", header=None)\n",
    "df.columns = [\"label\", \"content\"]\n",
    "df.head()\n",
    "\n",
    "idx_train, idx_test = train_test_split(df.index, test_size=0.3, random_state=42)\n",
    "vectorizer = CountVectorizer(stop_words=\"english\")\n",
    "\n",
    "X = vectorizer.fit_transform(df[\"content\"])\n",
    "y = df[\"label\"].map({\"spam\": 1,\"ham\": 0})"
   ]
  },
  {
   "cell_type": "code",
   "execution_count": 29,
   "id": "0b66a517-cdfd-4797-81cf-0705357bb469",
   "metadata": {},
   "outputs": [],
   "source": [
    "nb = MultinomialNB().fit(X[idx_train], y[idx_train])"
   ]
  },
  {
   "cell_type": "code",
   "execution_count": 31,
   "id": "bbb91fa3-98d4-4422-94d0-46368ddea464",
   "metadata": {},
   "outputs": [],
   "source": [
    "r = pd.DataFrame({\n",
    "    \"yh\": nb.predict(X[idx_test]),\n",
    "    \"y\": y[idx_test]\n",
    "})"
   ]
  },
  {
   "cell_type": "code",
   "execution_count": 32,
   "id": "cefca17d-ca9c-4050-b3c0-549b23177880",
   "metadata": {},
   "outputs": [
    {
     "data": {
      "text/plain": [
       "0.9553571428571429"
      ]
     },
     "execution_count": 32,
     "metadata": {},
     "output_type": "execute_result"
    }
   ],
   "source": [
    "metrics.accuracy_score(r.y, r.yh)\n",
    "metrics.precision_score(r.y, r.yh)\n",
    "metrics.recall_score(r.y, r.yh)"
   ]
  },
  {
   "cell_type": "code",
   "execution_count": 33,
   "id": "cd1bb089-84a9-4b94-9c1a-b4d3ddd01e84",
   "metadata": {},
   "outputs": [],
   "source": [
    "# how can acc > prec, rec?"
   ]
  },
  {
   "cell_type": "code",
   "execution_count": 34,
   "id": "ba05204a-2c17-427f-a7d7-158b6c6aa244",
   "metadata": {},
   "outputs": [],
   "source": [
    "# prec = tp / (tp + fp)\n",
    "# rec = tp / (tp + fn)"
   ]
  },
  {
   "cell_type": "code",
   "execution_count": 35,
   "id": "6c86b21c-2256-4057-9a8e-4fbc3fb66b93",
   "metadata": {},
   "outputs": [],
   "source": [
    "neg_class_prob_sorted = NB.feature_log_prob_[0, :].argsort()[::-1]\n",
    "pos_class_prob_sorted = NB.feature_log_prob_[1, :].argsort()[::-1]\n",
    "\n",
    "top_words = np.take(vectorizer.get_feature_names_out(), pos_class_prob_sorted[:30])"
   ]
  },
  {
   "cell_type": "code",
   "execution_count": 37,
   "id": "b1f7933b-493b-4272-ae12-353401d9cae3",
   "metadata": {},
   "outputs": [
    {
     "data": {
      "text/plain": [
       "array([[0.01285922, 0.98714078]])"
      ]
     },
     "execution_count": 37,
     "metadata": {},
     "output_type": "execute_result"
    }
   ],
   "source": [
    "nb.predict_proba(vectorizer.transform([\"Click here to collect your prize!\"]))\n",
    "nb.predict_proba(vectorizer.transform([\"Let's have a coffee tonight!\"]))\n",
    "nb.predict_proba(vectorizer.transform([\"When is the exam on AI?\"]))\n",
    "nb.predict_proba(vectorizer.transform([\"Congratulations, you won a car.\"]))\n",
    "nb.predict_proba(vectorizer.transform([\"Reply to claim your guaranteed win.\"]))\n",
    "nb.predict_proba(vectorizer.transform([\"Guaranteed profit! Learn how to invest.\"]))"
   ]
  }
 ],
 "metadata": {
  "kernelspec": {
   "display_name": "Python 3 (ipykernel)",
   "language": "python",
   "name": "python3"
  },
  "language_info": {
   "codemirror_mode": {
    "name": "ipython",
    "version": 3
   },
   "file_extension": ".py",
   "mimetype": "text/x-python",
   "name": "python",
   "nbconvert_exporter": "python",
   "pygments_lexer": "ipython3",
   "version": "3.9.13"
  }
 },
 "nbformat": 4,
 "nbformat_minor": 5
}
