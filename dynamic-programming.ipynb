{
 "cells": [
  {
   "cell_type": "code",
   "execution_count": 18,
   "id": "44c8bed8-f90e-4a06-a384-78fb38feabea",
   "metadata": {},
   "outputs": [
    {
     "data": {
      "text/plain": [
       "12"
      ]
     },
     "execution_count": 18,
     "metadata": {},
     "output_type": "execute_result"
    }
   ],
   "source": [
    "# dice throwing (how many ways are there to achieve n as the sum of all throws)\n",
    "\n",
    "capacity = 5\n",
    "values = [2, 4, 8, 5]\n",
    "weights = [1, 2, 3, 4]\n",
    "\n",
    "def recursive(c, w, v, i=0):\n",
    "    if i > len(v)-1:\n",
    "        return 0\n",
    "    if w[i] > c:\n",
    "        return recursive(c, w, v, i+1)\n",
    "    return max(\n",
    "        v[i] + recursive(c - w[i], w, v, i+1),\n",
    "        recursive(c, w, v, i+1)\n",
    "    )\n",
    "\n",
    "recursive(capacity, weights, values)"
   ]
  },
  {
   "cell_type": "code",
   "execution_count": 19,
   "id": "8db9c62f-9b5c-462a-a889-edc99d7a5a55",
   "metadata": {},
   "outputs": [
    {
     "data": {
      "text/plain": [
       "12.0"
      ]
     },
     "execution_count": 19,
     "metadata": {},
     "output_type": "execute_result"
    }
   ],
   "source": [
    "# 0-1 knapsack\n",
    "\n",
    "import numpy as np\n",
    "\n",
    "capacity = 5\n",
    "values = [2, 4, 8, 5]\n",
    "weights = [1, 2, 3, 4]\n",
    "\n",
    "def dynamic_programming(c, w, v):\n",
    "    shape = (len(v)+1, c+1)\n",
    "    m = np.zeros(shape)\n",
    "    for i in range(1, len(v)+1):\n",
    "        for j in range(1, c+1):\n",
    "            if w[i-1] > j:\n",
    "                m[i,j] = m[i-1,j]\n",
    "            else:\n",
    "                m[i,j] = max(\n",
    "                    v[i-1] + m[i-1, j-w[i-1]],\n",
    "                    m[i-1][j] \n",
    "                )\n",
    "    return m[-1,-1]\n",
    "\n",
    "dynamic_programming(capacity, weights, values)"
   ]
  }
 ],
 "metadata": {
  "kernelspec": {
   "display_name": "Python 3 (ipykernel)",
   "language": "python",
   "name": "python3"
  },
  "language_info": {
   "codemirror_mode": {
    "name": "ipython",
    "version": 3
   },
   "file_extension": ".py",
   "mimetype": "text/x-python",
   "name": "python",
   "nbconvert_exporter": "python",
   "pygments_lexer": "ipython3",
   "version": "3.9.13"
  }
 },
 "nbformat": 4,
 "nbformat_minor": 5
}
