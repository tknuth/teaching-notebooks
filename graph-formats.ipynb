{
 "cells": [
  {
   "cell_type": "code",
   "execution_count": 1,
   "id": "c23decd8-e349-4340-ad96-4a045f8c25a5",
   "metadata": {},
   "outputs": [],
   "source": [
    "import numpy as np\n",
    "\n",
    "matrix = np.array([\n",
    "    [0, 1, 1],\n",
    "    [1, 0, 1],\n",
    "    [1, 0, 0]\n",
    "])"
   ]
  },
  {
   "cell_type": "code",
   "execution_count": 2,
   "id": "47cbdccd-3eab-4ec3-8db3-1a8d25679372",
   "metadata": {},
   "outputs": [],
   "source": [
    "def matrix_to_adjacency(m):\n",
    "    n = m.shape[0]\n",
    "    l = [[] for i in range(n)]\n",
    "    for i in range(n):\n",
    "        for j in range(n):\n",
    "            if m[i, j] == 1:\n",
    "                l[i].append(j)\n",
    "    return l\n",
    "    \n",
    "adjacency = matrix_to_adjacency(matrix)"
   ]
  },
  {
   "cell_type": "code",
   "execution_count": 3,
   "id": "a7491438-fa32-4cf4-9deb-499b85ffd965",
   "metadata": {},
   "outputs": [
    {
     "data": {
      "text/plain": [
       "[[1, 2], [0, 2], [0]]"
      ]
     },
     "execution_count": 3,
     "metadata": {},
     "output_type": "execute_result"
    }
   ],
   "source": [
    "adjacency"
   ]
  },
  {
   "cell_type": "code",
   "execution_count": 4,
   "id": "ecb5b8f2-48ed-4a2e-bc87-e2084871c8b2",
   "metadata": {},
   "outputs": [
    {
     "data": {
      "text/plain": [
       "array([[0, 1, 1],\n",
       "       [1, 0, 1],\n",
       "       [1, 0, 0]])"
      ]
     },
     "execution_count": 4,
     "metadata": {},
     "output_type": "execute_result"
    }
   ],
   "source": [
    "def adjacency_to_matrix(a):\n",
    "    m = np.zeros((len(a), len(a)), dtype=int)\n",
    "    for i, l in enumerate(a):\n",
    "        for j in l:\n",
    "            m[i, j] = 1\n",
    "    return m\n",
    "\n",
    "adjacency_to_matrix(adjacency)"
   ]
  },
  {
   "cell_type": "code",
   "execution_count": 5,
   "id": "29fd56ca-c6d6-49a8-8e44-17d8680b953a",
   "metadata": {},
   "outputs": [
    {
     "data": {
      "text/plain": [
       "[2, 1, 2]"
      ]
     },
     "execution_count": 5,
     "metadata": {},
     "output_type": "execute_result"
    }
   ],
   "source": [
    "def indegree_from_matrix(m):\n",
    "    return list(m.sum(axis=0))\n",
    "\n",
    "indegree_from_matrix(matrix)"
   ]
  },
  {
   "cell_type": "code",
   "execution_count": 6,
   "id": "e5dc013e-e8c9-4570-a21d-4e328fd2fc22",
   "metadata": {},
   "outputs": [
    {
     "data": {
      "text/plain": [
       "[2, 2, 1]"
      ]
     },
     "execution_count": 6,
     "metadata": {},
     "output_type": "execute_result"
    }
   ],
   "source": [
    "def outdegree_from_matrix(m):\n",
    "    return list(m.sum(axis=1))\n",
    "\n",
    "outdegree_from_matrix(matrix)"
   ]
  },
  {
   "cell_type": "code",
   "execution_count": 7,
   "id": "4be66e21-cac9-4f87-ac55-e60bca8b2473",
   "metadata": {},
   "outputs": [
    {
     "data": {
      "text/plain": [
       "[2, 1, 2]"
      ]
     },
     "execution_count": 7,
     "metadata": {},
     "output_type": "execute_result"
    }
   ],
   "source": [
    "def indegree_from_adjacency(a):\n",
    "    l = [0 for v in a]\n",
    "    for s in a:\n",
    "        for v in s:\n",
    "            l[v] += 1\n",
    "    return l\n",
    "\n",
    "indegree_from_adjacency(adjacency)"
   ]
  },
  {
   "cell_type": "code",
   "execution_count": 8,
   "id": "9dd660f7-7017-4967-8c43-8bc1148ff840",
   "metadata": {},
   "outputs": [
    {
     "data": {
      "text/plain": [
       "[2, 1, 2]"
      ]
     },
     "execution_count": 8,
     "metadata": {},
     "output_type": "execute_result"
    }
   ],
   "source": [
    "def outdegree_from_adjacency(a):\n",
    "    return [len(v) for v in a]\n",
    "\n",
    "indegree_from_adjacency(adjacency)"
   ]
  }
 ],
 "metadata": {
  "kernelspec": {
   "display_name": "Python 3 (ipykernel)",
   "language": "python",
   "name": "python3"
  },
  "language_info": {
   "codemirror_mode": {
    "name": "ipython",
    "version": 3
   },
   "file_extension": ".py",
   "mimetype": "text/x-python",
   "name": "python",
   "nbconvert_exporter": "python",
   "pygments_lexer": "ipython3",
   "version": "3.9.16"
  }
 },
 "nbformat": 4,
 "nbformat_minor": 5
}
