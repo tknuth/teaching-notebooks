{
 "cells": [
  {
   "cell_type": "code",
   "execution_count": 1,
   "id": "c23decd8-e349-4340-ad96-4a045f8c25a5",
   "metadata": {},
   "outputs": [],
   "source": [
    "import numpy as np\n",
    "\n",
    "matrix = np.array([\n",
    "    [0, 1, 1],\n",
    "    [1, 0, 0],\n",
    "    [1, 0, 0]\n",
    "])"
   ]
  },
  {
   "cell_type": "code",
   "execution_count": 2,
   "id": "47cbdccd-3eab-4ec3-8db3-1a8d25679372",
   "metadata": {},
   "outputs": [
    {
     "data": {
      "text/plain": [
       "[[1, 2], [0], [0]]"
      ]
     },
     "execution_count": 2,
     "metadata": {},
     "output_type": "execute_result"
    }
   ],
   "source": [
    "def matrix_to_adjacency(m):\n",
    "    n = m.shape[0]\n",
    "    l = [[] for i in range(n)]\n",
    "    for i in range(n):\n",
    "        for j in range(n):\n",
    "            if m[i, j] == 1:\n",
    "                l[i].append(j)\n",
    "    return l\n",
    "    \n",
    "matrix_to_adjacency(matrix)"
   ]
  },
  {
   "cell_type": "code",
   "execution_count": 3,
   "id": "ecb5b8f2-48ed-4a2e-bc87-e2084871c8b2",
   "metadata": {},
   "outputs": [
    {
     "data": {
      "text/plain": [
       "array([[0, 1, 1],\n",
       "       [1, 0, 0],\n",
       "       [1, 0, 0]])"
      ]
     },
     "execution_count": 3,
     "metadata": {},
     "output_type": "execute_result"
    }
   ],
   "source": [
    "def adjacency_to_matrix(a):\n",
    "    m = np.zeros((len(a), len(a)), dtype=int)\n",
    "    for i, l in enumerate(a):\n",
    "        for j in l:\n",
    "            m[i, j] = 1\n",
    "    return m\n",
    "\n",
    "adjacency_to_matrix(matrix_to_adjacency(matrix))"
   ]
  }
 ],
 "metadata": {
  "kernelspec": {
   "display_name": "Python 3 (ipykernel)",
   "language": "python",
   "name": "python3"
  },
  "language_info": {
   "codemirror_mode": {
    "name": "ipython",
    "version": 3
   },
   "file_extension": ".py",
   "mimetype": "text/x-python",
   "name": "python",
   "nbconvert_exporter": "python",
   "pygments_lexer": "ipython3",
   "version": "3.9.16"
  }
 },
 "nbformat": 4,
 "nbformat_minor": 5
}
