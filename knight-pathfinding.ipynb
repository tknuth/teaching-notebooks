{
 "cells": [
  {
   "cell_type": "code",
   "execution_count": 1,
   "id": "584f2b43-f6f1-47fb-95f4-6ff12346c153",
   "metadata": {},
   "outputs": [
    {
     "data": {
      "text/plain": [
       "[(2, 1), (4, 2), (6, 3), (7, 5), (5, 6), (7, 7)]"
      ]
     },
     "execution_count": 1,
     "metadata": {},
     "output_type": "execute_result"
    }
   ],
   "source": [
    "allowed_moves = [\n",
    "    (2, 1),\n",
    "    (1, 2),\n",
    "    (2, -1),\n",
    "    (-1, 2),\n",
    "    (-2, 1),\n",
    "    (1, -2),\n",
    "    (-2, -1),\n",
    "    (-1, -2)   \n",
    "]\n",
    "\n",
    "def is_contained(p, n):\n",
    "    x, y = p\n",
    "    is_contained_x = x >= 0 and x < n\n",
    "    is_contained_y = y >= 0 and y < n\n",
    "    return is_contained_x and is_contained_y\n",
    "\n",
    "def neighbours(p, n):\n",
    "    x, y = p\n",
    "    r = []\n",
    "    for dx, dy in allowed_moves:\n",
    "        q = (x + dx, y + dy)\n",
    "        if is_contained(q, n):\n",
    "            r.append(q)\n",
    "    return r\n",
    "\n",
    "def build_dict(knight, target, n):\n",
    "    queue = [knight]\n",
    "    came_from = {}\n",
    "    came_from[knight] = None\n",
    "    while queue:\n",
    "        node = queue.pop(0)\n",
    "        for neighbour in neighbours(node, n):\n",
    "            if neighbour not in came_from:\n",
    "                queue.append(neighbour)\n",
    "                came_from[neighbour] = node\n",
    "    return came_from\n",
    "\n",
    "def find_path(knight, target, n):\n",
    "    came_from = build_dict(knight, target, n)\n",
    "    path = []\n",
    "    node = target\n",
    "    while node != knight:\n",
    "        path.append(node)\n",
    "        node = came_from[node]\n",
    "    return path[::-1]\n",
    "        \n",
    "n = 8\n",
    "knight = (0, 0)\n",
    "target = (n-1, n-1)\n",
    "\n",
    "find_path(knight, target, n)"
   ]
  }
 ],
 "metadata": {
  "kernelspec": {
   "display_name": "Python 3 (ipykernel)",
   "language": "python",
   "name": "python3"
  },
  "language_info": {
   "codemirror_mode": {
    "name": "ipython",
    "version": 3
   },
   "file_extension": ".py",
   "mimetype": "text/x-python",
   "name": "python",
   "nbconvert_exporter": "python",
   "pygments_lexer": "ipython3",
   "version": "3.9.16"
  }
 },
 "nbformat": 4,
 "nbformat_minor": 5
}
