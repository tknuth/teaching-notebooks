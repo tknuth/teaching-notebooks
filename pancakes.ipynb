{
 "cells": [
  {
   "cell_type": "code",
   "execution_count": 1,
   "id": "15094e11-ad80-46d0-a820-6484271460f0",
   "metadata": {},
   "outputs": [],
   "source": [
    "def order(n):\n",
    "    a = []\n",
    "    b = []\n",
    "    for i in range(n // 2):\n",
    "        a.append(i)\n",
    "        a.append(i)\n",
    "    for i in range(n // 2, n):\n",
    "        b.append(i)\n",
    "        b.append(i)\n",
    "    if n % 2 and n != 1:\n",
    "        # odd values of n without 1\n",
    "        a[-1], b[-1] = b[-1], a[-1]\n",
    "        a.append(b.pop(-1))\n",
    "    return a, b\n",
    "\n",
    "assert order(0) == ([], [])\n",
    "assert order(1) == ([], [0,0])\n",
    "assert order(2) == ([0, 0], [1, 1])\n",
    "assert order(3) == ([0, 2, 0], [1, 1, 2])"
   ]
  },
  {
   "cell_type": "code",
   "execution_count": 2,
   "id": "6f4355c3-a514-420e-be8d-a9a887796fdc",
   "metadata": {},
   "outputs": [],
   "source": [
    "def order(n):\n",
    "    p1 = []\n",
    "    p2 = []\n",
    "    for pancake in range(n):\n",
    "        if len(p1) <= len(p2):\n",
    "            p1.append(pancake)\n",
    "            p1.append(pancake)\n",
    "        else:\n",
    "            p2.append(pancake)\n",
    "            p2.append(pancake)\n",
    "    if n % 2 and n != 1:\n",
    "        # odd values of n without 1\n",
    "        p2.append(p1.pop(-3))\n",
    "    return p1, p2\n",
    "\n",
    "assert order(0) == ([], [])\n",
    "assert order(1) == ([0,0], [])\n",
    "assert order(2) == ([0, 0], [1, 1])\n",
    "assert order(3) == ([0, 2, 2], [1, 1, 0])"
   ]
  }
 ],
 "metadata": {
  "kernelspec": {
   "display_name": "Python 3 (ipykernel)",
   "language": "python",
   "name": "python3"
  },
  "language_info": {
   "codemirror_mode": {
    "name": "ipython",
    "version": 3
   },
   "file_extension": ".py",
   "mimetype": "text/x-python",
   "name": "python",
   "nbconvert_exporter": "python",
   "pygments_lexer": "ipython3",
   "version": "3.9.13"
  }
 },
 "nbformat": 4,
 "nbformat_minor": 5
}
