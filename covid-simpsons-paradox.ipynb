{
 "cells": [
  {
   "cell_type": "code",
   "execution_count": 1,
   "id": "b9b82b86-a7b8-4736-9b48-8af484f0ab2a",
   "metadata": {},
   "outputs": [],
   "source": [
    "import pandas as pd\n",
    "\n",
    "# https://www.openintro.org/data/index.php?data=simpsons_paradox_covid\n",
    "df = pd.read_csv(\"simpsons_paradox_covid.csv\")\n",
    "df[\"survived\"] = df.outcome == \"survived\""
   ]
  },
  {
   "cell_type": "code",
   "execution_count": 2,
   "id": "fea75ff8-0bc1-46aa-afa7-5fe191e53090",
   "metadata": {},
   "outputs": [],
   "source": [
    "r = df.groupby(\"vaccine_status\").survived.mean().reset_index()"
   ]
  },
  {
   "cell_type": "code",
   "execution_count": 3,
   "id": "94e0c3f9-03ff-4efd-b564-bdded0b0773d",
   "metadata": {},
   "outputs": [
    {
     "data": {
      "text/html": [
       "\n",
       "<style>\n",
       "  #altair-viz-c2b54b8e37af47f08166426a920f688b.vega-embed {\n",
       "    width: 100%;\n",
       "    display: flex;\n",
       "  }\n",
       "\n",
       "  #altair-viz-c2b54b8e37af47f08166426a920f688b.vega-embed details,\n",
       "  #altair-viz-c2b54b8e37af47f08166426a920f688b.vega-embed details summary {\n",
       "    position: relative;\n",
       "  }\n",
       "</style>\n",
       "<div id=\"altair-viz-c2b54b8e37af47f08166426a920f688b\"></div>\n",
       "<script type=\"text/javascript\">\n",
       "  var VEGA_DEBUG = (typeof VEGA_DEBUG == \"undefined\") ? {} : VEGA_DEBUG;\n",
       "  (function(spec, embedOpt){\n",
       "    let outputDiv = document.currentScript.previousElementSibling;\n",
       "    if (outputDiv.id !== \"altair-viz-c2b54b8e37af47f08166426a920f688b\") {\n",
       "      outputDiv = document.getElementById(\"altair-viz-c2b54b8e37af47f08166426a920f688b\");\n",
       "    }\n",
       "\n",
       "    const paths = {\n",
       "      \"vega\": \"https://cdn.jsdelivr.net/npm/vega@5?noext\",\n",
       "      \"vega-lib\": \"https://cdn.jsdelivr.net/npm/vega-lib?noext\",\n",
       "      \"vega-lite\": \"https://cdn.jsdelivr.net/npm/vega-lite@5.20.1?noext\",\n",
       "      \"vega-embed\": \"https://cdn.jsdelivr.net/npm/vega-embed@6?noext\",\n",
       "    };\n",
       "\n",
       "    function maybeLoadScript(lib, version) {\n",
       "      var key = `${lib.replace(\"-\", \"\")}_version`;\n",
       "      return (VEGA_DEBUG[key] == version) ?\n",
       "        Promise.resolve(paths[lib]) :\n",
       "        new Promise(function(resolve, reject) {\n",
       "          var s = document.createElement('script');\n",
       "          document.getElementsByTagName(\"head\")[0].appendChild(s);\n",
       "          s.async = true;\n",
       "          s.onload = () => {\n",
       "            VEGA_DEBUG[key] = version;\n",
       "            return resolve(paths[lib]);\n",
       "          };\n",
       "          s.onerror = () => reject(`Error loading script: ${paths[lib]}`);\n",
       "          s.src = paths[lib];\n",
       "        });\n",
       "    }\n",
       "\n",
       "    function showError(err) {\n",
       "      outputDiv.innerHTML = `<div class=\"error\" style=\"color:red;\">${err}</div>`;\n",
       "      throw err;\n",
       "    }\n",
       "\n",
       "    function displayChart(vegaEmbed) {\n",
       "      vegaEmbed(outputDiv, spec, embedOpt)\n",
       "        .catch(err => showError(`Javascript Error: ${err.message}<br>This usually means there's a typo in your chart specification. See the javascript console for the full traceback.`));\n",
       "    }\n",
       "\n",
       "    if(typeof define === \"function\" && define.amd) {\n",
       "      requirejs.config({paths});\n",
       "      let deps = [\"vega-embed\"];\n",
       "      require(deps, displayChart, err => showError(`Error loading script: ${err.message}`));\n",
       "    } else {\n",
       "      maybeLoadScript(\"vega\", \"5\")\n",
       "        .then(() => maybeLoadScript(\"vega-lite\", \"5.20.1\"))\n",
       "        .then(() => maybeLoadScript(\"vega-embed\", \"6\"))\n",
       "        .catch(showError)\n",
       "        .then(() => displayChart(vegaEmbed));\n",
       "    }\n",
       "  })({\"config\": {\"view\": {\"continuousWidth\": 300, \"continuousHeight\": 300}}, \"data\": {\"name\": \"data-cfc4b81683d16977023fa7a19ae6b442\"}, \"mark\": {\"type\": \"circle\"}, \"encoding\": {\"x\": {\"axis\": {\"format\": \".2%\", \"title\": \"Survival Rate\"}, \"field\": \"survived\", \"scale\": {\"domain\": [0.99, 1]}, \"type\": \"quantitative\"}, \"y\": {\"axis\": {\"title\": \"Vaccine Status\"}, \"field\": \"vaccine_status\", \"type\": \"nominal\"}}, \"$schema\": \"https://vega.github.io/schema/vega-lite/v5.20.1.json\", \"datasets\": {\"data-cfc4b81683d16977023fa7a19ae6b442\": [{\"vaccine_status\": \"unvaccinated\", \"survived\": 0.9983250801048645}, {\"vaccine_status\": \"vaccinated\", \"survived\": 0.995892890687706}]}}, {\"mode\": \"vega-lite\"});\n",
       "</script>"
      ],
      "text/plain": [
       "alt.Chart(...)"
      ]
     },
     "execution_count": 3,
     "metadata": {},
     "output_type": "execute_result"
    }
   ],
   "source": [
    "import altair as alt\n",
    "\n",
    "# Erläutern und untersuchen Sie die im Chart gezeigten Ergebnisse kritisch\n",
    "# und ergänzen Sie die Analyse um sinnvolle Statistiken.\n",
    "alt.data_transformers.disable_max_rows()\n",
    "alt.Chart(r).mark_circle().encode(\n",
    "    x=alt.X(\"survived\").axis(format=\".2%\", title=\"Survival Rate\").scale(domain=[.99, 1]),\n",
    "    y=alt.Y(\"vaccine_status\").axis(title=\"Vaccine Status\")\n",
    ")"
   ]
  }
 ],
 "metadata": {
  "kernelspec": {
   "display_name": "Python 3 (ipykernel)",
   "language": "python",
   "name": "python3"
  },
  "language_info": {
   "codemirror_mode": {
    "name": "ipython",
    "version": 3
   },
   "file_extension": ".py",
   "mimetype": "text/x-python",
   "name": "python",
   "nbconvert_exporter": "python",
   "pygments_lexer": "ipython3",
   "version": "3.11.12"
  }
 },
 "nbformat": 4,
 "nbformat_minor": 5
}
