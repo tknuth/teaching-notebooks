{
 "cells": [
  {
   "cell_type": "code",
   "execution_count": 1,
   "id": "f68221a7-faed-4854-9b14-861d3f1dd5dc",
   "metadata": {},
   "outputs": [],
   "source": [
    "class Stack:\n",
    "    def __init__(self):\n",
    "        self.l = []\n",
    "        \n",
    "    def push(self, x):\n",
    "        self.l.append(x)\n",
    "    \n",
    "    def pop(self):\n",
    "        return self.l.pop()\n",
    "    \n",
    "    def peek(self):\n",
    "        return self.l[-1]\n",
    "\n",
    "    def is_empty(self):\n",
    "        return len(self.l) == 0"
   ]
  },
  {
   "cell_type": "code",
   "execution_count": 2,
   "id": "5b7cfdda-54e5-4741-852e-5bc1b3767c88",
   "metadata": {},
   "outputs": [],
   "source": [
    "class Queue:\n",
    "    def __init__(self):\n",
    "        self.l = []\n",
    "        \n",
    "    def enqueue(self, x):\n",
    "        self.l.insert(0, x)\n",
    "    \n",
    "    def dequeue(self):\n",
    "        return self.l.pop()\n",
    "    \n",
    "    def peek(self):\n",
    "        if self.l:\n",
    "            return self.l[-1]\n",
    "        \n",
    "    def is_empty(self):\n",
    "        return len(self.l) == 0"
   ]
  },
  {
   "cell_type": "code",
   "execution_count": 3,
   "id": "f68f1e9e-03a3-49c8-a2c5-3e94361ae664",
   "metadata": {},
   "outputs": [],
   "source": [
    "class QueueWithStacks():\n",
    "    def __init__(self):\n",
    "        self.a = Stack()\n",
    "        self.b = Stack()\n",
    "    \n",
    "    def is_empty(self):\n",
    "        return self.a.is_empty() and self.b.is_empty()\n",
    "    \n",
    "    def enqueue(self, x):\n",
    "        self.a.push(x)\n",
    "        \n",
    "    def dequeue(self):\n",
    "        if not self.b.is_empty():\n",
    "            return self.b.pop()\n",
    "        while not self.a.is_empty():\n",
    "            self.b.push(self.a.pop())\n",
    "        return self.b.pop()"
   ]
  },
  {
   "cell_type": "code",
   "execution_count": 4,
   "id": "450a3407-39d6-4d18-931b-d528ed58eb47",
   "metadata": {},
   "outputs": [],
   "source": [
    "class StackWithQueues:\n",
    "    def __init__(self):\n",
    "        self.a = Queue()\n",
    "        self.b = Queue()\n",
    "        \n",
    "    def push(self, x):\n",
    "        self.a.enqueue(x)\n",
    "    \n",
    "    def pop(self):\n",
    "        while not self.a.is_empty():\n",
    "            c = self.a.dequeue()\n",
    "            if self.a.is_empty():\n",
    "                while not self.b.is_empty():\n",
    "                    self.a.enqueue(self.b.dequeue())\n",
    "                return c\n",
    "            self.b.enqueue(c)\n",
    "        while not self.b.is_empty():\n",
    "            self.a.enqueue(self.b.dequeue())"
   ]
  }
 ],
 "metadata": {
  "kernelspec": {
   "display_name": "Python 3 (ipykernel)",
   "language": "python",
   "name": "python3"
  },
  "language_info": {
   "codemirror_mode": {
    "name": "ipython",
    "version": 3
   },
   "file_extension": ".py",
   "mimetype": "text/x-python",
   "name": "python",
   "nbconvert_exporter": "python",
   "pygments_lexer": "ipython3",
   "version": "3.9.16"
  }
 },
 "nbformat": 4,
 "nbformat_minor": 5
}
