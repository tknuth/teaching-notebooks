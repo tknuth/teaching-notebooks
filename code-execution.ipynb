{
 "cells": [
  {
   "cell_type": "code",
   "execution_count": 1,
   "id": "3548cf83-c812-483f-b1da-0840599bb0bb",
   "metadata": {},
   "outputs": [
    {
     "name": "stdout",
     "output_type": "stream",
     "text": [
      "[0, 10, 20, 30, 40, 50, 60, 70, 80, 90]\n",
      "[0, 10, 20, 30, 40, 50, 60, 70, 80, 90]\n"
     ]
    }
   ],
   "source": [
    "import math\n",
    "\n",
    "def a(n):\n",
    "    x = 0\n",
    "    for i in range(n):\n",
    "        for j in range(10):\n",
    "            x += 1\n",
    "    return x\n",
    "\n",
    "print([a(n) for n in range(10)])\n",
    "print([10*n for n in range(10)])"
   ]
  },
  {
   "cell_type": "code",
   "execution_count": 2,
   "id": "9978adc9-5708-4f43-84e1-319bcaea420f",
   "metadata": {},
   "outputs": [
    {
     "name": "stdout",
     "output_type": "stream",
     "text": [
      "[0, 0, 5, 15, 30, 50, 75, 105, 140, 180]\n",
      "[0, 0, 5, 15, 30, 50, 75, 105, 140, 180]\n"
     ]
    }
   ],
   "source": [
    "def b(n):\n",
    "    x = 0\n",
    "    for i in range(n):\n",
    "        for j in range(i):\n",
    "            for k in range(5):\n",
    "                x += 1\n",
    "    return x\n",
    "\n",
    "# Gaussian sum but with n-1 due to range(0) in inner loop\n",
    "print([b(n) for n in range(10)])\n",
    "print([int(n*(n-1)*5/2) for n in range(10)])"
   ]
  },
  {
   "cell_type": "code",
   "execution_count": 3,
   "id": "7ba2f328-f41e-440e-b3e7-902330b01eb5",
   "metadata": {},
   "outputs": [
    {
     "name": "stdout",
     "output_type": "stream",
     "text": [
      "[1, 4, 13, 40, 121, 364, 1093, 3280, 9841, 29524]\n",
      "[1, 4, 13, 40, 121, 364, 1093, 3280, 9841, 29524]\n"
     ]
    }
   ],
   "source": [
    "def c(n, cnt=0):\n",
    "    if n < 1:\n",
    "        return 1\n",
    "    return sum([c(n-1, cnt+1) for i in range(3)]) + 1\n",
    "\n",
    "# geometric series\n",
    "print([c(n) for n in range(10)])\n",
    "print([(3**(n+1)-1) // 2 for n in range(10)])"
   ]
  },
  {
   "cell_type": "code",
   "execution_count": 4,
   "id": "00101763-f64d-4549-a707-b76b932a6640",
   "metadata": {},
   "outputs": [
    {
     "name": "stdout",
     "output_type": "stream",
     "text": [
      "[0, 0, 0, 0, 0, 0, 0, 0, 0]\n",
      "[0, 0, 0, 0, 0, 0, 0, 0, 0]\n"
     ]
    }
   ],
   "source": [
    "def a(n):\n",
    "    i = 0\n",
    "    while i % n:\n",
    "        i += 1\n",
    "    return i\n",
    "\n",
    "print([a(n) for n in range(1, 10)])\n",
    "print([0 for n in range(1, 10)])"
   ]
  },
  {
   "cell_type": "code",
   "execution_count": 5,
   "id": "72c524ae-048b-488c-b297-757459cc03b1",
   "metadata": {},
   "outputs": [
    {
     "name": "stdout",
     "output_type": "stream",
     "text": [
      "[1, 2, 4, 4, 8, 8, 8, 8, 16]\n",
      "[1, 2, 4, 4, 8, 8, 8, 8, 16]\n"
     ]
    }
   ],
   "source": [
    "def b(n):\n",
    "    i = 1\n",
    "    while i < n:\n",
    "        i *= 2\n",
    "    return i\n",
    "\n",
    "print([b(n) for n in range(1, 10)])\n",
    "print([2**math.ceil(math.log2(n)) for n in range(1, 10)])"
   ]
  },
  {
   "cell_type": "code",
   "execution_count": 6,
   "id": "b40d4ed8-3081-4012-af72-cda388a0a8b3",
   "metadata": {},
   "outputs": [
    {
     "name": "stdout",
     "output_type": "stream",
     "text": [
      "[1, 2, 4, 4, 6, 6, 8, 8, 10]\n",
      "[2, 2, 4, 4, 6, 6, 8, 8, 10]\n"
     ]
    }
   ],
   "source": [
    "def c(n):\n",
    "    i = 1\n",
    "    while i < n:\n",
    "        if i % 2:\n",
    "            i += 1\n",
    "            continue\n",
    "        i += 2\n",
    "    return i\n",
    "\n",
    "print([c(n) for n in range(1, 10)])\n",
    "print([math.ceil(n/2)*2 for n in range(1, 10)])"
   ]
  }
 ],
 "metadata": {
  "kernelspec": {
   "display_name": "Python 3 (ipykernel)",
   "language": "python",
   "name": "python3"
  },
  "language_info": {
   "codemirror_mode": {
    "name": "ipython",
    "version": 3
   },
   "file_extension": ".py",
   "mimetype": "text/x-python",
   "name": "python",
   "nbconvert_exporter": "python",
   "pygments_lexer": "ipython3",
   "version": "3.9.16"
  }
 },
 "nbformat": 4,
 "nbformat_minor": 5
}
