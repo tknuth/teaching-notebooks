{
 "cells": [
  {
   "cell_type": "code",
   "execution_count": 1,
   "metadata": {},
   "outputs": [
    {
     "name": "stdout",
     "output_type": "stream",
     "text": [
      "OK!\n"
     ]
    }
   ],
   "source": [
    "stack = []\n",
    "openers = \"([{\"\n",
    "closers = \")]}\"\n",
    "\n",
    "def check_parentheses(pars):\n",
    "    for par in pars:\n",
    "        if par in openers:\n",
    "            stack.append(par)\n",
    "        if par in closers:\n",
    "            if closers.index(par) == openers.index(stack[-1]):\n",
    "                stack.pop()\n",
    "            else:\n",
    "                return False\n",
    "    return len(stack) == 0\n",
    "\n",
    "def test(f):\n",
    "    assert f(\"(){}[]([])\") == True\n",
    "    assert f(\"([{}])[]()\") == True\n",
    "    assert f(\"([{}])([()\") == False\n",
    "    assert f(\"[([{}])()}\") == False\n",
    "    print(\"OK!\")\n",
    "    \n",
    "test(check_parentheses)"
   ]
  },
  {
   "cell_type": "code",
   "execution_count": 2,
   "metadata": {},
   "outputs": [
    {
     "name": "stdout",
     "output_type": "stream",
     "text": [
      "OK!\n"
     ]
    }
   ],
   "source": [
    "d = {\n",
    "    \"{\": \"}\",\n",
    "    \"[\": \"]\",\n",
    "    \"(\": \")\",\n",
    "}\n",
    "\n",
    "def check_parentheses(pars):\n",
    "    stack = []\n",
    "    for c in pars:\n",
    "        if c in d: # openers\n",
    "            stack.append(c)\n",
    "        if c in d.values(): # closers\n",
    "            if len(stack) == 0:\n",
    "                return False\n",
    "            if d[stack[-1]] == c:\n",
    "                stack.pop()\n",
    "            else:\n",
    "                return False\n",
    "    return len(stack) == 0\n",
    "\n",
    "def test(f):\n",
    "    assert f(\"(){}[]([])\") == True\n",
    "    assert f(\"([{}])[]()\") == True\n",
    "    assert f(\"([{}])([()\") == False\n",
    "    assert f(\"[([{}])()}\") == False\n",
    "    print(\"OK!\")\n",
    "    \n",
    "test(check_parentheses)"
   ]
  }
 ],
 "metadata": {
  "kernelspec": {
   "display_name": "Python 3 (ipykernel)",
   "language": "python",
   "name": "python3"
  },
  "language_info": {
   "codemirror_mode": {
    "name": "ipython",
    "version": 3
   },
   "file_extension": ".py",
   "mimetype": "text/x-python",
   "name": "python",
   "nbconvert_exporter": "python",
   "pygments_lexer": "ipython3",
   "version": "3.9.16"
  }
 },
 "nbformat": 4,
 "nbformat_minor": 4
}
